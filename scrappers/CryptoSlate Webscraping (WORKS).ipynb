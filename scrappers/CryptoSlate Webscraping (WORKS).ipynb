{
 "cells": [
  {
   "cell_type": "code",
   "execution_count": 2,
   "metadata": {},
   "outputs": [],
   "source": [
    "import pandas as pd\n",
    "import numpy as np\n",
    "import requests\n",
    "import regex as re\n",
    "from bs4 import BeautifulSoup"
   ]
  },
  {
   "cell_type": "code",
   "execution_count": 3,
   "metadata": {},
   "outputs": [
    {
     "data": {
      "text/html": [
       "<div>\n",
       "<style scoped>\n",
       "    .dataframe tbody tr th:only-of-type {\n",
       "        vertical-align: middle;\n",
       "    }\n",
       "\n",
       "    .dataframe tbody tr th {\n",
       "        vertical-align: top;\n",
       "    }\n",
       "\n",
       "    .dataframe thead th {\n",
       "        text-align: right;\n",
       "    }\n",
       "</style>\n",
       "<table border=\"1\" class=\"dataframe\">\n",
       "  <thead>\n",
       "    <tr style=\"text-align: right;\">\n",
       "      <th></th>\n",
       "      <th>0</th>\n",
       "    </tr>\n",
       "  </thead>\n",
       "  <tbody>\n",
       "    <tr>\n",
       "      <th>0</th>\n",
       "      <td>https://www.coindesk.com/markets/2021/08/04/bi...</td>\n",
       "    </tr>\n",
       "    <tr>\n",
       "      <th>1</th>\n",
       "      <td>https://www.coindesk.com/markets/2022/01/31/fi...</td>\n",
       "    </tr>\n",
       "    <tr>\n",
       "      <th>2</th>\n",
       "      <td>https://www.coindesk.com/markets/2022/02/01/ha...</td>\n",
       "    </tr>\n",
       "    <tr>\n",
       "      <th>3</th>\n",
       "      <td>https://www.newsbtc.com/news/bitcoin/market-se...</td>\n",
       "    </tr>\n",
       "    <tr>\n",
       "      <th>4</th>\n",
       "      <td>https://www.newsbtc.com/analysis/btc/ta-bitcoi...</td>\n",
       "    </tr>\n",
       "    <tr>\n",
       "      <th>5</th>\n",
       "      <td>https://bitcoinmagazine.com/business/at-home-b...</td>\n",
       "    </tr>\n",
       "    <tr>\n",
       "      <th>6</th>\n",
       "      <td>https://bitcoinmagazine.com/culture/why-should...</td>\n",
       "    </tr>\n",
       "    <tr>\n",
       "      <th>7</th>\n",
       "      <td>https://cryptoslate.com/whats-behind-bitcoins-...</td>\n",
       "    </tr>\n",
       "    <tr>\n",
       "      <th>8</th>\n",
       "      <td>https://cryptoslate.com/fans-can-now-use-ether...</td>\n",
       "    </tr>\n",
       "    <tr>\n",
       "      <th>9</th>\n",
       "      <td>https://bitcoinist.com/why-deustche-bank-says-...</td>\n",
       "    </tr>\n",
       "    <tr>\n",
       "      <th>10</th>\n",
       "      <td>https://bitcoinist.com/116-million-in-futures-...</td>\n",
       "    </tr>\n",
       "    <tr>\n",
       "      <th>11</th>\n",
       "      <td>https://finance.yahoo.com/news/forex-dollar-ed...</td>\n",
       "    </tr>\n",
       "    <tr>\n",
       "      <th>12</th>\n",
       "      <td>https://www.forbes.com/sites/ninabambysheva/20...</td>\n",
       "    </tr>\n",
       "  </tbody>\n",
       "</table>\n",
       "</div>"
      ],
      "text/plain": [
       "                                                    0\n",
       "0   https://www.coindesk.com/markets/2021/08/04/bi...\n",
       "1   https://www.coindesk.com/markets/2022/01/31/fi...\n",
       "2   https://www.coindesk.com/markets/2022/02/01/ha...\n",
       "3   https://www.newsbtc.com/news/bitcoin/market-se...\n",
       "4   https://www.newsbtc.com/analysis/btc/ta-bitcoi...\n",
       "5   https://bitcoinmagazine.com/business/at-home-b...\n",
       "6   https://bitcoinmagazine.com/culture/why-should...\n",
       "7   https://cryptoslate.com/whats-behind-bitcoins-...\n",
       "8   https://cryptoslate.com/fans-can-now-use-ether...\n",
       "9   https://bitcoinist.com/why-deustche-bank-says-...\n",
       "10  https://bitcoinist.com/116-million-in-futures-...\n",
       "11  https://finance.yahoo.com/news/forex-dollar-ed...\n",
       "12  https://www.forbes.com/sites/ninabambysheva/20..."
      ]
     },
     "execution_count": 3,
     "metadata": {},
     "output_type": "execute_result"
    }
   ],
   "source": [
    "links = pd.read_csv('link.csv',header=None)\n",
    "links"
   ]
  },
  {
   "cell_type": "code",
   "execution_count": 4,
   "metadata": {},
   "outputs": [],
   "source": [
    "headers = {\"User-Agent\": \"Mozilla/5.0 (Macintosh; Intel Mac OS X 10.14; rv:66.0) Gecko/20100101 Firefox/66.0\", \"Accept\": \"text/html,application/xhtml+xml,application/xml;q=0.9,*/*;q=0.8\", \"Accept-Language\": \"en-US,en;q=0.5\", \"Accept-Encoding\": \"gzip, deflate\", \"DNT\": \"1\", \"Connection\": \"close\", \"Upgrade-Insecure-Requests\": \"1\"}"
   ]
  },
  {
   "cell_type": "code",
   "execution_count": 5,
   "metadata": {},
   "outputs": [
    {
     "data": {
      "text/html": [
       "<div>\n",
       "<style scoped>\n",
       "    .dataframe tbody tr th:only-of-type {\n",
       "        vertical-align: middle;\n",
       "    }\n",
       "\n",
       "    .dataframe tbody tr th {\n",
       "        vertical-align: top;\n",
       "    }\n",
       "\n",
       "    .dataframe thead th {\n",
       "        text-align: right;\n",
       "    }\n",
       "</style>\n",
       "<table border=\"1\" class=\"dataframe\">\n",
       "  <thead>\n",
       "    <tr style=\"text-align: right;\">\n",
       "      <th></th>\n",
       "      <th>0</th>\n",
       "    </tr>\n",
       "  </thead>\n",
       "  <tbody>\n",
       "    <tr>\n",
       "      <th>7</th>\n",
       "      <td>https://cryptoslate.com/whats-behind-bitcoins-...</td>\n",
       "    </tr>\n",
       "    <tr>\n",
       "      <th>8</th>\n",
       "      <td>https://cryptoslate.com/fans-can-now-use-ether...</td>\n",
       "    </tr>\n",
       "  </tbody>\n",
       "</table>\n",
       "</div>"
      ],
      "text/plain": [
       "                                                   0\n",
       "7  https://cryptoslate.com/whats-behind-bitcoins-...\n",
       "8  https://cryptoslate.com/fans-can-now-use-ether..."
      ]
     },
     "execution_count": 5,
     "metadata": {},
     "output_type": "execute_result"
    }
   ],
   "source": [
    "links = links[links[0].str.contains('cryptoslate.com')]\n",
    "links"
   ]
  },
  {
   "cell_type": "code",
   "execution_count": 6,
   "metadata": {},
   "outputs": [
    {
     "name": "stdout",
     "output_type": "stream",
     "text": [
      "https://cryptoslate.com/whats-behind-bitcoins-sudden-plunge-to-40000/\n",
      "https://cryptoslate.com/fans-can-now-use-ethereum-to-tip-creators-on-twitter/\n"
     ]
    }
   ],
   "source": [
    "for link in links[0] :\n",
    "    print(link)"
   ]
  },
  {
   "cell_type": "code",
   "execution_count": 7,
   "metadata": {},
   "outputs": [],
   "source": [
    "# Create lists that contains article and date scrapped from each link\n",
    "articles = []\n",
    "dates = []\n",
    "scrapped_links = []\n",
    "\n",
    "# Initialize a count variable to keep track of how many news articles have been scrapped so far\n",
    "count = 0\n",
    "\n",
    "for link in links[0] :\n",
    "    URL = link\n",
    "    # Request access to the URL\n",
    "    page = requests.get(URL, headers=headers)\n",
    "\n",
    "    # Parse the html using BeautifulSoup for scrapping\n",
    "    soup = BeautifulSoup(page.content, \"html.parser\")\n",
    "    date = soup.find('span', class_='post-date')\n",
    "    date = str(date)\n",
    "    date = re.sub('<span class=\"post-date\">| UTC</span></span>|<span class=\"time\">', '', date)\n",
    "    date = re.sub('at', '', date)\n",
    "    \n",
    "    result = soup.find_all('p')\n",
    "    text = []\n",
    "    result = soup.find_all('p')\n",
    "    for r in result :\n",
    "        r = str(r)\n",
    "        r = re.sub('<p>|</p>|<span>|</span>|<p class=\"post-subheading\">|<p class=\"image-credit\">|<a>|</a>', '', str(r))\n",
    "        result = re.sub('<script>|</script>|[|]', '', r)\n",
    "        text.append(r)\n",
    "\n",
    "    if text :\n",
    "        articles.append(''.join(text))\n",
    "        dates.append(date)\n",
    "    "
   ]
  },
  {
   "cell_type": "code",
   "execution_count": 8,
   "metadata": {},
   "outputs": [
    {
     "data": {
      "text/plain": [
       "['Feb. 18, 2022  11:30 am', 'Feb. 17, 2022  6:00 pm']"
      ]
     },
     "execution_count": 8,
     "metadata": {},
     "output_type": "execute_result"
    }
   ],
   "source": [
    "dates"
   ]
  },
  {
   "cell_type": "code",
   "execution_count": 11,
   "metadata": {},
   "outputs": [
    {
     "data": {
      "text/plain": [
       "(2, 2, 2)"
      ]
     },
     "execution_count": 11,
     "metadata": {},
     "output_type": "execute_result"
    }
   ],
   "source": [
    "len(dates), len(articles), len(links)"
   ]
  },
  {
   "cell_type": "code",
   "execution_count": 9,
   "metadata": {},
   "outputs": [
    {
     "name": "stdout",
     "output_type": "stream",
     "text": [
      "Welcome Bonus: Get up to $100 in BTCBitcoin sunk on Thursday leading to fears of further downside. Analysts have pinned this on President Biden's plan to regulate the crypto sector.Cover art/illustration via CryptoSlateThursday saw a renewed decline for Bitcoin as the leading cryptocurrency plunged to $40,090. <br/><br/>A bounce followed, leading to a tight trading range between $40,300 and $40,900.<p class=\"cs-plus-read-more\">To read the rest of this article, <a href=\"https://cryptoslate.com/?memberful_endpoint=auth\">sign in or <a href=\"https://cryptoslate.memberful.com/checkout?plan=43765\">join CryptoSlate Edge.<div class=\"cs-edge-splash clearfix\"><h4>CryptoSlate Edge helps you understand the cryptoasset market more clearly.</h4><p class=\"intro\">We can all agree that the crypto market is fast-moving and confusing, but CryptoSlate Edge can help make sense of it for you.<div class=\"cs-edge-top-buttons clearfix\"><div class=\"btn-container join\"> <a class=\"btn\" href=\"https://cryptoslate.memberful.com/checkout?plan=43765\" title=\"Join Now | $19/month\">Join now for $19/month <span class=\"small-text\">Billed Annually</div><div class=\"btn-container\"> <a class=\"btn black\" href=\"https://commerce.coinbase.com/checkout/3afc5e17-eafb-4f77-81eb-85295cc02430\" title=\"or pay in crypto\">Pay with Crypto <span class=\"small-text\">BTC · ETH · LTC · BCH · USDC · DAI</div></div><h5>Enhanced news coverage</h5><ul><li><h6>Exclusive articles and insights</h6>Get an analytical edge by accessing members-only articles with curated insights from crypto analysts around the globe.</li><li><h6>Real-time charts and price snapshots</h6>Gain a better understanding of the market with real-time charts, price snapshots and more market data in every news article.</li><li><h6>Explore the companies, products and people in our articles</h6> We display profiles of people, companies, products, and assets related to every Edge article so you can connect the dots.</li></ul><hr/><h5>Extensive crypto asset and sector data</h5><ul><li><h6>On-chain metrics and social sentiment</h6>Gain a better understanding of the on-chain trends an explore social sentiment for individual crypto assets.</li><li><h6>Crypto asset transaction demographics</h6>Understand where the majority of crypto asset transactions are taking place globally.</li><li><h6>Explore innovative projects and sectors</h6>Follow new projects and crypto sectors with our manually curated data for over 50 industry verticals.</li></ul><hr/><h5>What else?</h5><ul><li><h6>Private Telegram community</h6>As an Edge subscriber, you will access new articles first and engage with the community in our private Telegram channel.</li><li><h6>A clean, ad-free experience</h6>We hide all advertisements for CryptoSlate Edge subscribers.</li><li><h6>Support independent journalism</h6>As an independent organization in the blockchain industry, we are guided by a strict editorial policy that emphasizes objectivity and transparency in our coverage.</li></ul><hr/><div class=\"btn-container join\"> <a class=\"btn\" href=\"https://cryptoslate.memberful.com/checkout?plan=43765\" title=\"Join Now | $19/month\">Join now for $19/month <span class=\"small-text\">Billed Annually</div><div class=\"btn-container\"> <a class=\"btn black\" href=\"https://commerce.coinbase.com/checkout/3afc5e17-eafb-4f77-81eb-85295cc02430\" title=\"or pay in crypto\">Pay with Crypto <span class=\"small-text\">BTC · ETH · LTC · BCH · USDC · DAI</div></div><p class=\"intro\">We can all agree that the crypto market is fast-moving and confusing, but CryptoSlate Edge can help make sense of it for you.Get an analytical edge by accessing members-only articles with curated insights from crypto analysts around the globe.Gain a better understanding of the market with real-time charts, price snapshots and more market data in every news article. We display profiles of people, companies, products, and assets related to every Edge article so you can connect the dots.Gain a better understanding of the on-chain trends an explore social sentiment for individual crypto assets.Understand where the majority of crypto asset transactions are taking place globally.Follow new projects and crypto sectors with our manually curated data for over 50 industry verticals.As an Edge subscriber, you will access new articles first and engage with the community in our private Telegram channel.We hide all advertisements for CryptoSlate Edge subscribers.As an independent organization in the blockchain industry, we are guided by a strict editorial policy that emphasizes objectivity and transparency in our coverage.Access more insights in every article as a member of CryptoSlate Edge.DeFi has taken on a bigger role in money laundering, but centralized exchanges still dominate.Demand for Bitcoin on the Ethereum ecosystem has waned considerably since the start of this year.On-chain metrics show a fall in demand and interest, as well as sell pressure coming from supply holding at a loss.Fear currently consumes investors worldwide as a result of Russian-Ukraine geopolitical tensions and impending US monetary policy adjustments.<p class=\"story-tips\">Got a story tip? Email <a href=\"/cdn-cgi/l/email-protection#32465b42417251404b42465d415e5346571c515d5f0d414750585751460f61465d404b12665b42\"><span class=\"__cf_email__\" data-cfemail=\"51253821221132232821253e223d3025347f323e3c\">[email protected]<strong>Disclaimer:</strong> By using this website, you agree to our <a href=\"https://cryptoslate.com/terms-and-conditions/\" rel=\"nofollow\" title=\"Terms and Conditions\">Terms and Conditions and <a href=\"https://cryptoslate.com/privacy/\" rel=\"nofollow\" title=\"Privacy\">Privacy Policy. CryptoSlate has no affiliation or relationship with any coin, business, project or event unless explicitly stated otherwise. CryptoSlate is only an informational website that provides news about coins, blockchain companies, blockchain products and blockchain events. None of the information you read on CryptoSlate should be taken as investment advice. Buying and trading cryptocurrencies should be considered a high-risk activity. Please do your own diligence before making any investment decisions. CryptoSlate is not accountable, directly or indirectly, for any damage or loss incurred, alleged or otherwise, in connection to the use or reliance of any content you read on the site.© 2022 CryptoSlate. All rights reserved. <a href=\"https://cryptoslate.com/terms/\">Terms | <a href=\"https://cryptoslate.com/privacy/\">Privacy\n",
      "\n",
      "Welcome Bonus: Get up to $100 in BTCFans can now use two of the most popular cryptocurrencies, Bitcoin and Ethereum, to support their favorite creators via tips.Cover art/illustration via CryptoSlateTwitter announced on February 16 that it has <a href=\"https://blog.twitter.com/en_us/topics/product/2021/bringing-tips-to-everyone\">added Ethereum support for its creator tips system. The company also enabled tips via three payment services, namely Paytm, Barter and Paga.“Cool, we’ve added Paga, Barter by Flutterwave, Paytm, and the option to add your Ethereum address.”<p dir=\"ltr\" lang=\"en\">Have you set up Tips on your profile yet so it's easy for people to show their support?Yes: Cool, we’ve added Paga, Barter by Flutterwave, Paytm, and the option to add your Ethereum address.No: What are you waiting for? Here's how: <a href=\"https://t.co/Id5TwTpnCF\">https://t.co/Id5TwTpnCF— Twitter Support (@TwitterSupport) <a href=\"https://twitter.com/TwitterSupport/status/1494008973581856768?ref_src=twsrc%5Etfw\">February 16, 2022<script data-cfasync=\"false\" src=\"/cdn-cgi/scripts/5c5dd728/cloudflare-static/email-decode.min.js\"></script><script async=\"\" charset=\"utf-8\" src=\"https://platform.twitter.com/widgets.js\"></script>Twitter’s <a href=\"https://www.engadget.com/twitter-tip-jar-201442453.html\">tip jar system was introduced in May 2021 and allows users to enable donation functionality on their profiles. Fans who want to support creators can then choose to donate via different payment options and platforms by clicking an icon on the creator’s profile.“Whether you want to tip your favorite account because you adore their commentary, send some love to an emerging comedy creator for their hilarious Tweets, help a small business owner through a difficult time, give to an important cause — whatever you want to support (and we know you already have some ideas), Tips is here to help you do it.”The feature initially only supported fiat currency but began adding other options over the months after it launched. Currently, it supports roughly 11 different services and platforms for the tipping jar.This is the second cryptocurrency the company has enabled on its platform. Users have had the option to use Bitcoin as a <a href=\"https://www.cnbc.com/2021/09/23/you-can-now-get-paid-in-bitcoin-to-use-twitter.html\">payment method, since September 2021.Sending and receiving Bitcoin payments is enabled on the platform using Strike, which is a payments application built on the Lightning network. Fans and creators can use any bitcoin lightning wallet for this purpose.Twitter’s love for crypto comes as no surprise considering founder Jack Dorsey has long been a <a href=\"https://techcrunch.com/2021/02/12/jack-dorsey-and-jay-z-invest-23-6-million-to-fund-bitcoin-development/\">proponent of cryptocurrency adoption.“My hope is that it creates world peace or helps create world peace.”Dorsey said in July 2021 at a <a href=\"https://www.cnbc.com/2021/07/21/jack-dorsey-hopes-bitcoin-will-help-bring-about-world-peace.html\">virtual conference where he was speaking on a panel focused on economic empowerment via bitcoin. In 2018, he also made predictions about bitcoin becoming the planet’s <a href=\"https://www.theverge.com/2018/3/21/17147574/twitter-ceo-bitcoin-jack-dorsey-square-interview-currency-10-years\">“single currency” within the coming decade.Dorsey is currently serving as CEO of <a href=\"https://squareup.com/us/en\">Square, which recently announced that it is working on a hardware crypto wallet.Featuring a summary of the most important daily stories in the world of crypto, DeFi, NFTs and more.DeFi dapp Yearn has completed its first launch of its service on an Ethereum layer-2 network. Yearn chose Arbitrum for the first step into layer-2, more will follow. <span class=\"post-meta\"> <span class=\"span-reading-time\"> 2 min readThe co-founder of the Ethereum blockchain publicly condemned Vladimir Putin on Twitter minutes after the Russian President ordered a “special military operation” in Ukraine. <span class=\"post-meta\"> <span class=\"span-reading-time\"> 2 min readThe drop in prices has calmed down a large part of the speculation that usually drives crypto markets and some of the on-chain activity has taken a dip. <span class=\"post-meta\"> <span class=\"span-reading-time\"> 3 min readAccess more crypto insights and context in every article as a paid member of CryptoSlate Edge.<strong>Commitment to Transparency:</strong> The author of this article is invested and/or has an interest in one or more assets discussed in this post. CryptoSlate does not endorse any project or asset that may be mentioned or linked to in this article. Please take that into consideration when evaluating the content within this article.<strong>Disclaimer:</strong> Our writers' opinions are solely their own and do not reflect the opinion of CryptoSlate. None of the information you read on CryptoSlate should be taken as investment advice, nor does CryptoSlate endorse any project that may be mentioned or linked to in this article. Buying and trading cryptocurrencies should be considered a high-risk activity. Please do your own due diligence before taking any action related to content within this article. Finally, CryptoSlate takes no responsibility should you lose money trading cryptocurrencies.Access more insights in every article as a member of CryptoSlate Edge.DeFi has taken on a bigger role in money laundering, but centralized exchanges still dominate.Demand for Bitcoin on the Ethereum ecosystem has waned considerably since the start of this year.On-chain metrics show a fall in demand and interest, as well as sell pressure coming from supply holding at a loss.Fear currently consumes investors worldwide as a result of Russian-Ukraine geopolitical tensions and impending US monetary policy adjustments.<p class=\"story-tips\">Got a story tip? Email <a href=\"/cdn-cgi/l/email-protection#30445940437053424940445f435c5144551e535f5d0f4345525a5553440d63445f424910645940\"><span class=\"__cf_email__\" data-cfemail=\"56223f26251635242f262239253a3722337835393b\">[email protected]<strong>Disclaimer:</strong> By using this website, you agree to our <a href=\"https://cryptoslate.com/terms-and-conditions/\" rel=\"nofollow\" title=\"Terms and Conditions\">Terms and Conditions and <a href=\"https://cryptoslate.com/privacy/\" rel=\"nofollow\" title=\"Privacy\">Privacy Policy. CryptoSlate has no affiliation or relationship with any coin, business, project or event unless explicitly stated otherwise. CryptoSlate is only an informational website that provides news about coins, blockchain companies, blockchain products and blockchain events. None of the information you read on CryptoSlate should be taken as investment advice. Buying and trading cryptocurrencies should be considered a high-risk activity. Please do your own diligence before making any investment decisions. CryptoSlate is not accountable, directly or indirectly, for any damage or loss incurred, alleged or otherwise, in connection to the use or reliance of any content you read on the site.© 2022 CryptoSlate. All rights reserved. <a href=\"https://cryptoslate.com/terms/\">Terms | <a href=\"https://cryptoslate.com/privacy/\">Privacy\n",
      "\n"
     ]
    }
   ],
   "source": [
    "for a in articles :\n",
    "    print(a, end='\\n\\n')"
   ]
  }
 ],
 "metadata": {
  "kernelspec": {
   "display_name": "Python 3",
   "language": "python",
   "name": "python3"
  },
  "language_info": {
   "codemirror_mode": {
    "name": "ipython",
    "version": 3
   },
   "file_extension": ".py",
   "mimetype": "text/x-python",
   "name": "python",
   "nbconvert_exporter": "python",
   "pygments_lexer": "ipython3",
   "version": "3.6.5"
  }
 },
 "nbformat": 4,
 "nbformat_minor": 2
}
