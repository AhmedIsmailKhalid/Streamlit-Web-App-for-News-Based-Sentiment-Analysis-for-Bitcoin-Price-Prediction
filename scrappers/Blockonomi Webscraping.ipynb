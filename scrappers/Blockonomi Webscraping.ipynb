{
 "cells": [
  {
   "cell_type": "code",
   "execution_count": 1,
   "metadata": {},
   "outputs": [],
   "source": [
    "import pandas as pd\n",
    "import numpy as np\n",
    "import requests\n",
    "import regex as re\n",
    "from bs4 import BeautifulSoup"
   ]
  },
  {
   "cell_type": "code",
   "execution_count": 5,
   "metadata": {},
   "outputs": [
    {
     "data": {
      "text/html": [
       "<div>\n",
       "<style scoped>\n",
       "    .dataframe tbody tr th:only-of-type {\n",
       "        vertical-align: middle;\n",
       "    }\n",
       "\n",
       "    .dataframe tbody tr th {\n",
       "        vertical-align: top;\n",
       "    }\n",
       "\n",
       "    .dataframe thead th {\n",
       "        text-align: right;\n",
       "    }\n",
       "</style>\n",
       "<table border=\"1\" class=\"dataframe\">\n",
       "  <thead>\n",
       "    <tr style=\"text-align: right;\">\n",
       "      <th></th>\n",
       "      <th>0</th>\n",
       "    </tr>\n",
       "  </thead>\n",
       "  <tbody>\n",
       "    <tr>\n",
       "      <th>0</th>\n",
       "      <td>https://www.coindesk.com/markets/2021/08/04/bi...</td>\n",
       "    </tr>\n",
       "    <tr>\n",
       "      <th>1</th>\n",
       "      <td>https://www.coindesk.com/markets/2022/01/31/fi...</td>\n",
       "    </tr>\n",
       "    <tr>\n",
       "      <th>2</th>\n",
       "      <td>https://www.coindesk.com/markets/2022/02/01/ha...</td>\n",
       "    </tr>\n",
       "    <tr>\n",
       "      <th>3</th>\n",
       "      <td>https://www.newsbtc.com/news/bitcoin/market-se...</td>\n",
       "    </tr>\n",
       "    <tr>\n",
       "      <th>4</th>\n",
       "      <td>https://www.newsbtc.com/analysis/btc/ta-bitcoi...</td>\n",
       "    </tr>\n",
       "    <tr>\n",
       "      <th>5</th>\n",
       "      <td>https://bitcoinmagazine.com/business/at-home-b...</td>\n",
       "    </tr>\n",
       "    <tr>\n",
       "      <th>6</th>\n",
       "      <td>https://bitcoinmagazine.com/culture/why-should...</td>\n",
       "    </tr>\n",
       "    <tr>\n",
       "      <th>7</th>\n",
       "      <td>https://cryptoslate.com/whats-behind-bitcoins-...</td>\n",
       "    </tr>\n",
       "    <tr>\n",
       "      <th>8</th>\n",
       "      <td>https://cryptoslate.com/fans-can-now-use-ether...</td>\n",
       "    </tr>\n",
       "    <tr>\n",
       "      <th>9</th>\n",
       "      <td>https://bitcoinist.com/why-deustche-bank-says-...</td>\n",
       "    </tr>\n",
       "    <tr>\n",
       "      <th>10</th>\n",
       "      <td>https://bitcoinist.com/116-million-in-futures-...</td>\n",
       "    </tr>\n",
       "    <tr>\n",
       "      <th>11</th>\n",
       "      <td>https://finance.yahoo.com/news/forex-dollar-ed...</td>\n",
       "    </tr>\n",
       "    <tr>\n",
       "      <th>12</th>\n",
       "      <td>https://www.forbes.com/sites/ninabambysheva/20...</td>\n",
       "    </tr>\n",
       "    <tr>\n",
       "      <th>13</th>\n",
       "      <td>https://nulltx.com/with-bitcoin-and-ethereum-p...</td>\n",
       "    </tr>\n",
       "    <tr>\n",
       "      <th>14</th>\n",
       "      <td>https://nulltx.com/with-bitcoin-price-crashing...</td>\n",
       "    </tr>\n",
       "    <tr>\n",
       "      <th>15</th>\n",
       "      <td>https://blockonomi.com/whats-up-with-the-bitco...</td>\n",
       "    </tr>\n",
       "    <tr>\n",
       "      <th>16</th>\n",
       "      <td>https://blockonomi.com/zest-protocol-guide/</td>\n",
       "    </tr>\n",
       "    <tr>\n",
       "      <th>17</th>\n",
       "      <td>https://blockonomi.com/money-on-chain-brings-e...</td>\n",
       "    </tr>\n",
       "  </tbody>\n",
       "</table>\n",
       "</div>"
      ],
      "text/plain": [
       "                                                    0\n",
       "0   https://www.coindesk.com/markets/2021/08/04/bi...\n",
       "1   https://www.coindesk.com/markets/2022/01/31/fi...\n",
       "2   https://www.coindesk.com/markets/2022/02/01/ha...\n",
       "3   https://www.newsbtc.com/news/bitcoin/market-se...\n",
       "4   https://www.newsbtc.com/analysis/btc/ta-bitcoi...\n",
       "5   https://bitcoinmagazine.com/business/at-home-b...\n",
       "6   https://bitcoinmagazine.com/culture/why-should...\n",
       "7   https://cryptoslate.com/whats-behind-bitcoins-...\n",
       "8   https://cryptoslate.com/fans-can-now-use-ether...\n",
       "9   https://bitcoinist.com/why-deustche-bank-says-...\n",
       "10  https://bitcoinist.com/116-million-in-futures-...\n",
       "11  https://finance.yahoo.com/news/forex-dollar-ed...\n",
       "12  https://www.forbes.com/sites/ninabambysheva/20...\n",
       "13  https://nulltx.com/with-bitcoin-and-ethereum-p...\n",
       "14  https://nulltx.com/with-bitcoin-price-crashing...\n",
       "15  https://blockonomi.com/whats-up-with-the-bitco...\n",
       "16        https://blockonomi.com/zest-protocol-guide/\n",
       "17  https://blockonomi.com/money-on-chain-brings-e..."
      ]
     },
     "execution_count": 5,
     "metadata": {},
     "output_type": "execute_result"
    }
   ],
   "source": [
    "links = pd.read_csv('link.csv',header=None)\n",
    "links"
   ]
  },
  {
   "cell_type": "code",
   "execution_count": 6,
   "metadata": {},
   "outputs": [],
   "source": [
    "headers = {\"User-Agent\": \"Mozilla/5.0 (Macintosh; Intel Mac OS X 10.14; rv:66.0) Gecko/20100101 Firefox/66.0\", \"Accept\": \"text/html,application/xhtml+xml,application/xml;q=0.9,*/*;q=0.8\", \"Accept-Language\": \"en-US,en;q=0.5\", \"Accept-Encoding\": \"gzip, deflate\", \"DNT\": \"1\", \"Connection\": \"close\", \"Upgrade-Insecure-Requests\": \"1\"}"
   ]
  },
  {
   "cell_type": "code",
   "execution_count": 7,
   "metadata": {},
   "outputs": [
    {
     "data": {
      "text/html": [
       "<div>\n",
       "<style scoped>\n",
       "    .dataframe tbody tr th:only-of-type {\n",
       "        vertical-align: middle;\n",
       "    }\n",
       "\n",
       "    .dataframe tbody tr th {\n",
       "        vertical-align: top;\n",
       "    }\n",
       "\n",
       "    .dataframe thead th {\n",
       "        text-align: right;\n",
       "    }\n",
       "</style>\n",
       "<table border=\"1\" class=\"dataframe\">\n",
       "  <thead>\n",
       "    <tr style=\"text-align: right;\">\n",
       "      <th></th>\n",
       "      <th>0</th>\n",
       "    </tr>\n",
       "  </thead>\n",
       "  <tbody>\n",
       "    <tr>\n",
       "      <th>15</th>\n",
       "      <td>https://blockonomi.com/whats-up-with-the-bitco...</td>\n",
       "    </tr>\n",
       "    <tr>\n",
       "      <th>16</th>\n",
       "      <td>https://blockonomi.com/zest-protocol-guide/</td>\n",
       "    </tr>\n",
       "    <tr>\n",
       "      <th>17</th>\n",
       "      <td>https://blockonomi.com/money-on-chain-brings-e...</td>\n",
       "    </tr>\n",
       "  </tbody>\n",
       "</table>\n",
       "</div>"
      ],
      "text/plain": [
       "                                                    0\n",
       "15  https://blockonomi.com/whats-up-with-the-bitco...\n",
       "16        https://blockonomi.com/zest-protocol-guide/\n",
       "17  https://blockonomi.com/money-on-chain-brings-e..."
      ]
     },
     "execution_count": 7,
     "metadata": {},
     "output_type": "execute_result"
    }
   ],
   "source": [
    "links = links[links[0].str.contains('blockonomi.com')]\n",
    "links"
   ]
  },
  {
   "cell_type": "code",
   "execution_count": 8,
   "metadata": {},
   "outputs": [
    {
     "name": "stdout",
     "output_type": "stream",
     "text": [
      "https://blockonomi.com/whats-up-with-the-bitcoin-network/\n",
      "https://blockonomi.com/zest-protocol-guide/\n",
      "https://blockonomi.com/money-on-chain-brings-earning-to-bitcoin-holders-with-25-return/\n"
     ]
    }
   ],
   "source": [
    "for link in links[0] :\n",
    "    print(link)"
   ]
  },
  {
   "cell_type": "code",
   "execution_count": 27,
   "metadata": {},
   "outputs": [],
   "source": [
    "# Create lists that contains article and date scrapped from each link\n",
    "articles = []\n",
    "dates = []\n",
    "scrapped_links = []\n",
    "\n",
    "# Initialize a count variable to keep track of how many news articles have been scrapped so far\n",
    "count = 0\n",
    "\n",
    "for link in links[0] :\n",
    "    URL = link\n",
    "    # Request access to the URL\n",
    "    page = requests.get(URL, headers=headers)\n",
    "\n",
    "    # Parse the html using BeautifulSoup for scrapping\n",
    "    soup = BeautifulSoup(page.content, \"html.parser\")\n",
    "    date = soup.find('time', class_='post-date')\n",
    "    date = re.sub('<time class=\"post-date\" datetime=\"|</time>','',str(date))\n",
    "    date = date[:25]\n",
    "    \n",
    "    result = soup.find_all('p')\n",
    "    text = []\n",
    "    for r in result :\n",
    "        r = str(r)\n",
    "        r = re.sub('<p>|</p>|<strong>|</strong>|<br>|</br>|<br/>|<em>|</em>|<a>|</a>', '', r)\n",
    "        r = re.sub('<p class=\"toc_title\">|<p class=\"text author-bio\">|<p class=\"copyright\">','',r)\n",
    "        text.append(r)\n",
    "\n",
    "    if text :\n",
    "        articles.append(''.join(text))\n",
    "        dates.append(date)"
   ]
  },
  {
   "cell_type": "code",
   "execution_count": 28,
   "metadata": {},
   "outputs": [
    {
     "data": {
      "text/plain": [
       "['2022-03-01T16:35:06+00:00',\n",
       " '2022-02-18T11:05:00+00:00',\n",
       " '2022-01-21T11:32:22+00:00']"
      ]
     },
     "execution_count": 28,
     "metadata": {},
     "output_type": "execute_result"
    }
   ],
   "source": [
    "dates"
   ]
  },
  {
   "cell_type": "code",
   "execution_count": 29,
   "metadata": {},
   "outputs": [
    {
     "name": "stdout",
     "output_type": "stream",
     "text": [
      "Most discussions regarding cryptocurrency and blockchain do not mention Bitcoin all that much. There is tremendous excitement surrounding Ethereum and alternative chains, primarily due to NTs and DeFi.However, there is a good chance Bitcoin will enter that discussion, too, thanks to some new developments…ContentsSeveral new trends have emerged in the blockchain and cryptocurrency space. Whether it is <a href=\"https://consensys.net/blockchain-use-cases/decentralized-finance/\">decentralized finance (DeFi), non-fungible tokens (NFTs), or GameFI (gamified finance), all of these concepts involve a blockchain supporting smart contract functionality. Even though many networks do precisely that, Bitcoin is not one of them. All discussions involve networks like Ethereum, BNB Chain, Solana, and others, but not the blockchain representing the highest value or best security.That may seem strange to onlookers, but it is par for the course. Unlike Ethereum and other chains, Bitcoin has no smart contracts. Therefore, it is very limited as to what developers can build on top of it directly. Initiatives like Rootstock introduce a side chain and require wrapped versions of BTC to unlock their potential. It is not an ideal situation, which is why these efforts have not taken off yet.Instead, developers tap Ethereum, Solana, BNB Chain, and others to explore DeFi and NFT opportunities. Ethereum is the biggest blockchain in Total Value Locked for decentralized finance and NFT trading volume. That is a bit weird, as Bitcoin’s market cap is much higher than Ethereum’s. Unfortunately, the lack of crucial programmability makes Bitcoin a non-option for developers today.<img alt=\"\" class=\"aligncenter size-full wp-image-62091\" data-lazy-sizes=\"(max-width: 602px) 100vw, 602px\" data-lazy-src=\"https://blockonomi-9fcd.kxcdn.com/wp-content/uploads/2022/03/Picture1.png\" data-lazy-srcset=\"https://blockonomi-9fcd.kxcdn.com/wp-content/uploads/2022/03/Picture1.png 602w, https://blockonomi-9fcd.kxcdn.com/wp-content/uploads/2022/03/Picture1-300x187.png 300w, https://blockonomi-9fcd.kxcdn.com/wp-content/uploads/2022/03/Picture1-50x31.png 50w\" height=\"375\" loading=\"lazy\" src=\"data:image/gif;base64,R0lGODdhAQABAPAAAP///wAAACwAAAAAAQABAEACAkQBADs=\" width=\"602\"/><noscript><img alt=\"\" class=\"aligncenter size-full wp-image-62091\" height=\"375\" loading=\"lazy\" sizes=\"(max-width: 602px) 100vw, 602px\" src=\"https://blockonomi-9fcd.kxcdn.com/wp-content/uploads/2022/03/Picture1.png\" srcset=\"https://blockonomi-9fcd.kxcdn.com/wp-content/uploads/2022/03/Picture1.png 602w, https://blockonomi-9fcd.kxcdn.com/wp-content/uploads/2022/03/Picture1-300x187.png 300w, https://blockonomi-9fcd.kxcdn.com/wp-content/uploads/2022/03/Picture1-50x31.png 50w\" width=\"602\"/></noscript>From a development viewpoint, Ethereum, Solana, and others provide many benefits. Coders can start building decentralized applications by coding manually or using developer tools. Moreover, they can tap into a vast network of users who share an interest in DeFi, NFTs, and more. Bringing such functionality to Bitcoin would be significant.While one may think more people should talk about <a href=\"https://bitcoinmagazine.com/technical/why-bitcoin-smart-contract-platform#:~:text=Many%20think%20that%20smart%20contracts,smart%20contract%20platform%20by%20definition.&amp;text=Nov%2029%2C%202021-,Many%20think%20that%20smart%20contracts%20are%20only%20executable%20on%20overly,smart%20contract%20platform%20by%20definition.\">bringing or enhancing smart contracts to Bitcoin, that is not the case. Instead, the mainstream discussions involving BTC revolve around the mining situation and its impact on the environment. Efforts are underway to focus more on renewable energy for Bitcoin mining, yet it seems that topic will dominate most discussion for a while to come.Additionally, there is Bitcoin price volatility. Since reaching an all-time high of over $69,000, BTC has lost over 50% of its value. The path to recovery has been slow, and the current bullish spell introduces more uncertainty. Bitcoin has proven volatile due to ongoing geopolitical tension, but it thrives during such periods.<img alt=\"\" class=\"aligncenter size-full wp-image-62092\" data-lazy-sizes=\"(max-width: 602px) 100vw, 602px\" data-lazy-src=\"https://blockonomi-9fcd.kxcdn.com/wp-content/uploads/2022/03/Picture2.png\" data-lazy-srcset=\"https://blockonomi-9fcd.kxcdn.com/wp-content/uploads/2022/03/Picture2.png 602w, https://blockonomi-9fcd.kxcdn.com/wp-content/uploads/2022/03/Picture2-300x244.png 300w, https://blockonomi-9fcd.kxcdn.com/wp-content/uploads/2022/03/Picture2-50x41.png 50w\" height=\"489\" loading=\"lazy\" src=\"data:image/gif;base64,R0lGODdhAQABAPAAAP///wAAACwAAAAAAQABAEACAkQBADs=\" width=\"602\"/><noscript><img alt=\"\" class=\"aligncenter size-full wp-image-62092\" height=\"489\" loading=\"lazy\" sizes=\"(max-width: 602px) 100vw, 602px\" src=\"https://blockonomi-9fcd.kxcdn.com/wp-content/uploads/2022/03/Picture2.png\" srcset=\"https://blockonomi-9fcd.kxcdn.com/wp-content/uploads/2022/03/Picture2.png 602w, https://blockonomi-9fcd.kxcdn.com/wp-content/uploads/2022/03/Picture2-300x244.png 300w, https://blockonomi-9fcd.kxcdn.com/wp-content/uploads/2022/03/Picture2-50x41.png 50w\" width=\"602\"/></noscript>One cannot deny Bitcoin is seen as a store-of-value and speculative asset by most.However, very few people consider the potential of the network’s security or building new use cases that go beyond mere payments. That is, until now, as the Stacks ecosystem introduces smart contract capabilities for the Bitcoin network, unlocking many potential opportunities.<span class=\"embed-youtube\" style=\"text-align:center; display: block;\"><iframe allowfullscreen=\"true\" class=\"youtube-player\" height=\"434\" loading=\"lazy\" sandbox=\"allow-scripts allow-same-origin allow-popups allow-presentation\" src=\"https://www.youtube.com/embed/9Z3IICfCnjo?version=3&amp;rel=1&amp;showsearch=0&amp;showinfo=1&amp;iv_load_policy=1&amp;fs=1&amp;hl=en-US&amp;autohide=2&amp;wmode=transparent\" style=\"border:0;\" width=\"770\"></iframe></span>For instance, the <a href=\"http://stacks.co\">Stacks ecosystem introduces support for Bitcoin NFTs and decentralized finance with BTC rewards. Artists can benefit from new financial opportunities through the smart contract functionality, and multiple minting/marketplace/collections exist already. Additionally, numerous other decentralized applications are built via Stacks, with more to come in the years ahead.The current decentralized application landscape is dominated by blockchains that aren’t as secure as Bitcoin or close to its liquidity and capital potential. With Stacks, developers can now build more advanced applications, products, and services, tapping into a network with over $800 billion in liquidity and the most secure blockchain on the market.Important Note:Editor-in-Chief of Blockonomi and founder of Kooc Media, A UK-Based Online Media Company. Believer in Open-Source Software, Blockchain Technology &amp; a Free and Fair Internet for all.\n",
      "His writing has been quoted by Nasdaq, Dow Jones, Investopedia, The New Yorker, Forbes, Techcrunch &amp; More. Contact Oliver@blockonomi.comBlockonomi™ Copyright © 2017 - 2020 <a href=\"https://kooc.co.uk\">Kooc Media Ltd. All rights reserved. Registered Company No.05695741 Network: <a href=\"https://moneycheck.com\">Moneycheck - Finance News / <a href=\"https://beanstalk.io\">Beanstalk - iGaming News / <a href=\"https://circlo.io\">Circlo - eCommerce Reviews<p class=\"message\"> Type above and press Enter to search. Press Esc to cancel.\n",
      "\n",
      "\n",
      "<a href=\"https://checker-anemone-04a.notion.site/About-Zest-Protocol-8558c27afb5a41fe88f88f2a0495a706\">Zest Protocol is here to provide access to sustainable Bitcoin yield, for liquidity providers, through its lending pools.An on-chain Bitcoin capital market for institutional borrowers, Zest allows opportunities for on-chain financing, without the constant threat of liquidation.Bitcoin is not a passive asset, it needs productive action from its community to unlock its potential and gain value. For a long time, it wasn’t easy to earn a passive income with Bitcoin.Now, there are a lot more tools entering the marketplace.That’s exactly what the blockchain´s change of paradigm is about; taking the power away from the big players, and giving it to the masses.ContentsA decentralized club of delegates manages the Zest pools, whitelisting borrowers, and earning performance fees.The mission?To strengthen, and help build a more solid Bitcoin economy. The goal?To reach a $120 Trillion market.Bitcoin sitting in a wallet is completely unproductive. Zest is changing all that.A little history:The Bretton Woods Treaty, created right after the WWll, based the world’s economy on gold.And that was alright. Gold was the basis for value, and for a while it worked.But now the times have changed, and the possibilities of creative earning are blooming everywhere.<p dir=\"ltr\" lang=\"en\">🍊 Meet Zest Protocol 🍊Zest is on-chain Bitcoin capital markets. Undercollateralised bitcoin liquidity for institutional borrowers, zesty yields for individual Bitcoin lenders.We're bringing the $120 trillion bond market on-chain. Zesty.🍊— tycho.btc 🍊 (@TychoOnnasch) <a href=\"https://twitter.com/TychoOnnasch/status/1494326361376231440?ref_src=twsrc%5Etfw\">February 17, 2022Turning a passive Bitcoin into a productive Bitcoin takes a few steps.Centralized yield products, like Celcius or BlockFi, are awesome indeed. But not everyone can have clean access to them, because of regulatory requirements.Wrapped BTC yield opportunities from other L1s, on the other hand, add new trust assumptions by verifying, wrapping and unwrapping on their platforms.And they aren´t decentralized.Zest is probably offering the most secure decentralized network in the world. And you wouldn’t want to miss that.Liquidity providers, pool delegates, borrowers and stakers are all working together in the Zest ecosystem.Here is how it works:Liquidity Providers are the everyday users, who deposit Bitcoin into a liquidity pool. They expect to fund loans and earn yield (now, APYs are roughly about 3-5% for unsecured Bitcoin).Pool Delegates are responsible for managing those liquidity pools. Pool delegates seek for agreements with borrowers off-chain, and perform diligence.After studying and authorizing a borrower, they include them in a pool, so that liquidity providers can consider fulfilling their loan applications. A pool delegate gets a reward too, by sharing in the interest payments.Borrowers are the applicants for capital from the liquidity providers, once they are boarded on a pool, by their pool delegate.They have to create a vault, and provide a Bitcoin address to receive funds. The vault can hold collateral deposits, if the pool delegate finds it necessary to require it.Stakers Each liquidity pool has a parallel staking pool attached to it, as a form of security measure. That is, in case any of the borrowers defaults.Pool delegates are stakers in their own pools, but anyone can participate by staking along with the pool delegate, to make higher profits.The Protocol Treasury Here the Bitcoin revenues hoard in native BTC, and it acts as a backup plan in case of an unexpected shortfall event.And last but not least, we have the Zest token holders, who have the voting privilege on general updates to the protocol, and on on-boarding pool delegates.Zest tokens are minted proportionally to the Bitcoin input in the Protocol Treasury.An important thing for the token holders is the fact that the higher the Zest token trades against Bitcoin, the lower its issuance.All of this creates a free market for credit assessment. Anyone who has an edge in assessing someone’s credit can become a pool delegate.<img alt=\"\" class=\"aligncenter size-full wp-image-61744\" data-lazy-sizes=\"(max-width: 1280px) 100vw, 1280px\" data-lazy-src=\"https://blockonomi-9fcd.kxcdn.com/wp-content/uploads/2022/02/2022-02-16_13.11.47.jpg\" data-lazy-srcset=\"https://blockonomi-9fcd.kxcdn.com/wp-content/uploads/2022/02/2022-02-16_13.11.47.jpg 1280w, https://blockonomi-9fcd.kxcdn.com/wp-content/uploads/2022/02/2022-02-16_13.11.47-300x190.jpg 300w, https://blockonomi-9fcd.kxcdn.com/wp-content/uploads/2022/02/2022-02-16_13.11.47-1024x648.jpg 1024w, https://blockonomi-9fcd.kxcdn.com/wp-content/uploads/2022/02/2022-02-16_13.11.47-768x486.jpg 768w, https://blockonomi-9fcd.kxcdn.com/wp-content/uploads/2022/02/2022-02-16_13.11.47-50x32.jpg 50w\" height=\"810\" loading=\"lazy\" src=\"data:image/gif;base64,R0lGODdhAQABAPAAAP///wAAACwAAAAAAQABAEACAkQBADs=\" width=\"1280\"/><noscript><img alt=\"\" class=\"aligncenter size-full wp-image-61744\" height=\"810\" loading=\"lazy\" sizes=\"(max-width: 1280px) 100vw, 1280px\" src=\"https://blockonomi-9fcd.kxcdn.com/wp-content/uploads/2022/02/2022-02-16_13.11.47.jpg\" srcset=\"https://blockonomi-9fcd.kxcdn.com/wp-content/uploads/2022/02/2022-02-16_13.11.47.jpg 1280w, https://blockonomi-9fcd.kxcdn.com/wp-content/uploads/2022/02/2022-02-16_13.11.47-300x190.jpg 300w, https://blockonomi-9fcd.kxcdn.com/wp-content/uploads/2022/02/2022-02-16_13.11.47-1024x648.jpg 1024w, https://blockonomi-9fcd.kxcdn.com/wp-content/uploads/2022/02/2022-02-16_13.11.47-768x486.jpg 768w, https://blockonomi-9fcd.kxcdn.com/wp-content/uploads/2022/02/2022-02-16_13.11.47-50x32.jpg 50w\" width=\"1280\"/></noscript>Clearly, the first pool delegates will lend to institutional borrowers they trust, based on mutual knowledge.But this precaution can evolve, based on borrowers’ on-chain data. Improving the pool delegates´ skills to gather the good borrowers.Sharpening your instinct is a healthy brain exercise as well. There are no limits, participation is open, and the revenues could reach high.Borrowers and liquidity providers can participate with just a Bitcoin wallet address. Whereas stakers and pool delegates have to work with the Stacks platform.Zest uses Clarity Smart Contracts on the <a href=\"https://www.stacks.co/\">Stacks network.These Clarity smart contracts have the capacity to trigger the Zest protocol, and liquidate collateral or staked funds, in case of borrowers´ payment delays.Furthermore, Zest uses Taproot-enabled Discrete Log Contracts (DLCs) in order to make the guarantee deposits of BTCs in pools, more transparent and trustable.Speaking of trust; the four mainstays trust assumptions a Zest´s user makes are1. Trust on the Bitcoin blockchain.2. Trust that the Stacks´ Clarity smart contracts are capable of reading and analyzing the liquidity pools, the staking pools, and the collateral funds correctly, and make the right decisions to cover any mishapps.3. Trust on Zest protocol´s audited Smart contract.4. Trust on the pool delegate the user chose, based on their performance. Pool delegate´s on-line activity (yields, previous loans, defaults etc.), is fully accessible to users, encouraging a sound competition among them.The global bond market today, (where governments, universities, institutions and public corporations borrow capital from private investors), is worth about $120 Trillion.It’s no secret that this humongous budget is already moving to Bitcoin. Zest is ready and in the pole-position, to play the upper hand in this paradigm shift.The company is also planning to issue tokenized loan receipts to lenders. This way, the created fixed-income Bitcoin bonds, will be tradeable on secondary markets.Zest issued Bitcoin bonds can be traded in many ways.On-chain capital markets will democratize capital accessibility. Anyone with an edge in assessing credit can become a pool delegate, and put profit hungry borrowers together.For instance, anyone who could assess the credit worthiness of their suppliers, could apply to become a pool delegate.Now, through Zest´s Stack Clarity Smart Contracts, the suppliers can access Bitcoin credit funds. The pool delegate and the providers will get their rewards too.Bottomline – everybody wins. Adam Smith´s dreams are finally coming true!At first, Zest will provide loans to OTC (over the counter) desks, exchanges, market makers and arbitraje traders. The largest Bitcoin borrowers today.This is not abstract theory. Genesis generated some $13 Billion in Bitcoin loans, only in Q4 2021.Maple Finance, pioneered for lending undercollateralized USDC on Ethereum, issuing some U$ 610 Million, only just in their first eight months on main-net.Zest is hard at work today, to have their testnet launch ready by the end of Q1 2022. Right after multiple audits and stress tests, they´re planning to be ready for full launch by Q2 2022.Changes are happening fast, and technological revolutions are growing stronger. With more ways to earn – cryptos will become more popular – especially with institutional investors.The new tools are giving the power back to the common people, and on-chain capital markets will definitely do their share, to democratize access to capital and finances.There will always be opportunities for income generation with passive assets. While passive earnings with Bitcoin were slower to come around than other platforms – Zest is making it happen.The input that Stacks´ Clarity Smart Contracts add to Zest, will increase security and profitability to the experience. You wouldn’t want to miss this one!Important Note:Nicholas Say was born in Ann Arbor, Michigan. He has traveled extensively, lived in Uruguay for many years, and currently resides in the Far East. His writing can be found all over the web, with special emphasis placed on realistic development, and the next generation of human technology.Blockonomi™ Copyright © 2017 - 2020 <a href=\"https://kooc.co.uk\">Kooc Media Ltd. All rights reserved. Registered Company No.05695741 Network: <a href=\"https://moneycheck.com\">Moneycheck - Finance News / <a href=\"https://beanstalk.io\">Beanstalk - iGaming News / <a href=\"https://circlo.io\">Circlo - eCommerce Reviews<p class=\"message\"> Type above and press Enter to search. Press Esc to cancel.\n",
      "\n",
      "\n",
      "<a href=\"https://moneyonchain.com/\">Money On Chain protocol enables the creation of new Stablecoins Tokens, allowing transactions of innovative financial systems to be free from the volatility of the current cryptocurrencies markets enabling a world where transactions are instant, cost-efficient, and free from the volatility of the current cryptocurrencies markets.Furthermore, this platform enables international trade to be frictionless so individuals and companies can use the Bitcoin blockchain without facing volatility risks.Money on Chain hence the best of both worlds, decentralization, security, the immutability of Bitcoin, and the stability of traditional fiat to create such a solution.Max Carjuzaa, Co-Founder and Contributor of Money on Chain told media:“The past two years have demonstrated the robustness and outstanding performance of the model, even in the most averse market scenarios. What Money On Chain promised at launch has been successfully delivered and keeps growing.”Money on Chain protocol is the BPro, a token designed for Bitcoin holders renting their BTC position, which provides free leverage, passive income, and broader flexibility.The BPro asset is accessible to DoC token holders and notes a better performance than bitcoin. In fact, BPro outperformed BTC by 25%, making it a potent solution. In addition, a free leverage solution allows users to benefit more from BTC price changes.BPro holders can earn passive income through rBTC rewards, paid for by traders performing leveraged operations. All of the interest paid by BTCx goes to BPro, ensuring the token’s value increases over time. Furthermore, Bpro pays 0.25% of its value to the MoC protocol annually.On top of that, BPro holders automatically partake in MoC Liquidity Mining Program to earn MoC tokens by holding. Those tokens can be staked for additional rewards, yielding users multiple revenue streams. Plus, every BPro is fully redeemable for Bitcoin at any time.ContentsMoC token, Money On Chain staking awards have an annual return of 12.43%. It is more than an attractive figure, yet it only represents one part of the equation.Bringing the first stablecoin on BTC – collateralized by bitcoin – under the Dollar On Chain (DoC) banner is one of the significant developments the team has achieved over the past two years.The Money On Chain suite of tools goes much further than the governance token and stablecoin and provides users with other options to increase passive revenue generation and leverage access.Users exploring the Money On Chain ecosystem can now achieve a 25% return on Bitcoin holdings while still retaining full control of their private keys.Let’s suppose John is a long-term bitcoin holder. John will find it attractive to buy BitPros with her bitcoins to get a passive income and free leverage. John’s purchase provides liquidity to the protocol.Sarah instead is not risk prone and prefers to buy DoCs with his Bitcoins. Sarah’s DoCs will use John’s Bitcoins as collateral. Sarah may use his DoCs to make payments at a predictable value.Finally, Sue, who is prone to risk and wishes to trade with her Bitcoins, takes leveraged positions in BTCX, reducing the volatility of John’s BitPro and paying her for the leverage.Money On Chain Token (MoC), which has several use cases:It’s pretty easy to see how a platform like Money on chain would be successful. If you think this system makes sense, <a href=\"https://moneyonchain.com/\">please click here for more information!Important Note:Nicholas Say was born in Ann Arbor, Michigan. He has traveled extensively, lived in Uruguay for many years, and currently resides in the Far East. His writing can be found all over the web, with special emphasis placed on realistic development, and the next generation of human technology.Blockonomi™ Copyright © 2017 - 2020 <a href=\"https://kooc.co.uk\">Kooc Media Ltd. All rights reserved. Registered Company No.05695741 Network: <a href=\"https://moneycheck.com\">Moneycheck - Finance News / <a href=\"https://beanstalk.io\">Beanstalk - iGaming News / <a href=\"https://circlo.io\">Circlo - eCommerce Reviews<p class=\"message\"> Type above and press Enter to search. Press Esc to cancel.\n",
      "\n",
      "\n"
     ]
    }
   ],
   "source": [
    "for a in articles :\n",
    "    print(a, end='\\n\\n\\n')"
   ]
  }
 ],
 "metadata": {
  "kernelspec": {
   "display_name": "Python 3",
   "language": "python",
   "name": "python3"
  },
  "language_info": {
   "codemirror_mode": {
    "name": "ipython",
    "version": 3
   },
   "file_extension": ".py",
   "mimetype": "text/x-python",
   "name": "python",
   "nbconvert_exporter": "python",
   "pygments_lexer": "ipython3",
   "version": "3.6.5"
  }
 },
 "nbformat": 4,
 "nbformat_minor": 2
}
