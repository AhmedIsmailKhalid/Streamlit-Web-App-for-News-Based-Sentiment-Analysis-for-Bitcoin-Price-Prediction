{
 "cells": [
  {
   "cell_type": "code",
   "execution_count": 1,
   "metadata": {},
   "outputs": [],
   "source": [
    "import pandas as pd\n",
    "import requests\n",
    "import regex as re\n",
    "from bs4 import BeautifulSoup"
   ]
  },
  {
   "cell_type": "code",
   "execution_count": 19,
   "metadata": {},
   "outputs": [
    {
     "data": {
      "text/html": [
       "<div>\n",
       "<style scoped>\n",
       "    .dataframe tbody tr th:only-of-type {\n",
       "        vertical-align: middle;\n",
       "    }\n",
       "\n",
       "    .dataframe tbody tr th {\n",
       "        vertical-align: top;\n",
       "    }\n",
       "\n",
       "    .dataframe thead th {\n",
       "        text-align: right;\n",
       "    }\n",
       "</style>\n",
       "<table border=\"1\" class=\"dataframe\">\n",
       "  <thead>\n",
       "    <tr style=\"text-align: right;\">\n",
       "      <th></th>\n",
       "      <th>0</th>\n",
       "    </tr>\n",
       "  </thead>\n",
       "  <tbody>\n",
       "    <tr>\n",
       "      <th>0</th>\n",
       "      <td>https://www.coindesk.com/markets/2021/08/04/bi...</td>\n",
       "    </tr>\n",
       "    <tr>\n",
       "      <th>1</th>\n",
       "      <td>https://www.coindesk.com/markets/2022/01/31/fi...</td>\n",
       "    </tr>\n",
       "    <tr>\n",
       "      <th>2</th>\n",
       "      <td>https://www.coindesk.com/markets/2022/02/01/ha...</td>\n",
       "    </tr>\n",
       "    <tr>\n",
       "      <th>3</th>\n",
       "      <td>https://www.newsbtc.com/news/bitcoin/market-se...</td>\n",
       "    </tr>\n",
       "    <tr>\n",
       "      <th>4</th>\n",
       "      <td>https://www.newsbtc.com/analysis/btc/ta-bitcoi...</td>\n",
       "    </tr>\n",
       "    <tr>\n",
       "      <th>5</th>\n",
       "      <td>https://bitcoinmagazine.com/business/at-home-b...</td>\n",
       "    </tr>\n",
       "    <tr>\n",
       "      <th>6</th>\n",
       "      <td>https://bitcoinmagazine.com/culture/why-should...</td>\n",
       "    </tr>\n",
       "    <tr>\n",
       "      <th>7</th>\n",
       "      <td>https://cryptoslate.com/whats-behind-bitcoins-...</td>\n",
       "    </tr>\n",
       "    <tr>\n",
       "      <th>8</th>\n",
       "      <td>https://cryptoslate.com/fans-can-now-use-ether...</td>\n",
       "    </tr>\n",
       "    <tr>\n",
       "      <th>9</th>\n",
       "      <td>https://bitcoinist.com/why-deustche-bank-says-...</td>\n",
       "    </tr>\n",
       "    <tr>\n",
       "      <th>10</th>\n",
       "      <td>https://bitcoinist.com/116-million-in-futures-...</td>\n",
       "    </tr>\n",
       "    <tr>\n",
       "      <th>11</th>\n",
       "      <td>https://finance.yahoo.com/news/forex-dollar-ed...</td>\n",
       "    </tr>\n",
       "    <tr>\n",
       "      <th>12</th>\n",
       "      <td>https://www.forbes.com/sites/ninabambysheva/20...</td>\n",
       "    </tr>\n",
       "  </tbody>\n",
       "</table>\n",
       "</div>"
      ],
      "text/plain": [
       "                                                    0\n",
       "0   https://www.coindesk.com/markets/2021/08/04/bi...\n",
       "1   https://www.coindesk.com/markets/2022/01/31/fi...\n",
       "2   https://www.coindesk.com/markets/2022/02/01/ha...\n",
       "3   https://www.newsbtc.com/news/bitcoin/market-se...\n",
       "4   https://www.newsbtc.com/analysis/btc/ta-bitcoi...\n",
       "5   https://bitcoinmagazine.com/business/at-home-b...\n",
       "6   https://bitcoinmagazine.com/culture/why-should...\n",
       "7   https://cryptoslate.com/whats-behind-bitcoins-...\n",
       "8   https://cryptoslate.com/fans-can-now-use-ether...\n",
       "9   https://bitcoinist.com/why-deustche-bank-says-...\n",
       "10  https://bitcoinist.com/116-million-in-futures-...\n",
       "11  https://finance.yahoo.com/news/forex-dollar-ed...\n",
       "12  https://www.forbes.com/sites/ninabambysheva/20..."
      ]
     },
     "execution_count": 19,
     "metadata": {},
     "output_type": "execute_result"
    }
   ],
   "source": [
    "links = pd.read_csv('link.csv',header=None)\n",
    "links"
   ]
  },
  {
   "cell_type": "code",
   "execution_count": 20,
   "metadata": {},
   "outputs": [
    {
     "data": {
      "text/html": [
       "<div>\n",
       "<style scoped>\n",
       "    .dataframe tbody tr th:only-of-type {\n",
       "        vertical-align: middle;\n",
       "    }\n",
       "\n",
       "    .dataframe tbody tr th {\n",
       "        vertical-align: top;\n",
       "    }\n",
       "\n",
       "    .dataframe thead th {\n",
       "        text-align: right;\n",
       "    }\n",
       "</style>\n",
       "<table border=\"1\" class=\"dataframe\">\n",
       "  <thead>\n",
       "    <tr style=\"text-align: right;\">\n",
       "      <th></th>\n",
       "      <th>0</th>\n",
       "    </tr>\n",
       "  </thead>\n",
       "  <tbody>\n",
       "    <tr>\n",
       "      <th>12</th>\n",
       "      <td>https://www.forbes.com/sites/ninabambysheva/20...</td>\n",
       "    </tr>\n",
       "  </tbody>\n",
       "</table>\n",
       "</div>"
      ],
      "text/plain": [
       "                                                    0\n",
       "12  https://www.forbes.com/sites/ninabambysheva/20..."
      ]
     },
     "execution_count": 20,
     "metadata": {},
     "output_type": "execute_result"
    }
   ],
   "source": [
    "links = links[links[0].str.contains('forbes.com')]\n",
    "links"
   ]
  },
  {
   "cell_type": "code",
   "execution_count": 21,
   "metadata": {},
   "outputs": [],
   "source": [
    "headers = {\"User-Agent\": \"Mozilla/5.0 (Macintosh; Intel Mac OS X 10.14; rv:66.0) Gecko/20100101 Firefox/66.0\", \"Accept\": \"text/html,application/xhtml+xml,application/xml;q=0.9,*/*;q=0.8\", \"Accept-Language\": \"en-US,en;q=0.5\", \"Accept-Encoding\": \"gzip, deflate\", \"DNT\": \"1\", \"Connection\": \"close\", \"Upgrade-Insecure-Requests\": \"1\"}"
   ]
  },
  {
   "cell_type": "code",
   "execution_count": 22,
   "metadata": {},
   "outputs": [
    {
     "name": "stdout",
     "output_type": "stream",
     "text": [
      "https://www.forbes.com/sites/ninabambysheva/2021/07/12/bitcoin-is-steady-as-it-braces-for-a-big-week/?sh=3a9ac8743ac6\n"
     ]
    }
   ],
   "source": [
    "for link in links[0] :\n",
    "    print(link)"
   ]
  },
  {
   "cell_type": "markdown",
   "metadata": {},
   "source": [
    "##### YAHOO"
   ]
  },
  {
   "cell_type": "code",
   "execution_count": 11,
   "metadata": {},
   "outputs": [],
   "source": [
    "# Create lists that contains article and date scrapped from each link\n",
    "articles = []\n",
    "dates = []\n",
    "scrapped_links = []\n",
    "\n",
    "# Initialize a count variable to keep track of how many news articles have been scrapped so far\n",
    "count = 0\n",
    "\n",
    "for link in links[0] :\n",
    "    URL = link\n",
    "    # Request access to the URL\n",
    "    page = requests.get(URL, headers=headers)\n",
    "\n",
    "    # Parse the html using BeautifulSoup for scrapping\n",
    "    soup = BeautifulSoup(page.content, \"html.parser\")\n",
    "    date = soup.find('time')\n",
    "    # print(soup)\n",
    "    \n",
    "    date = str(date)\n",
    "    date = date.replace('\"','')\n",
    "    date = re.sub('<time class=caas-attr-meta-time datetime=|>|</time>', '',date)\n",
    "    date = date[:24]\n",
    "    \n",
    "    text = []\n",
    "    result = soup.find_all('p', text=True)\n",
    "    for r in result :\n",
    "        r = str(r)\n",
    "        r = re.sub('\"|</p>|<p>','', r)\n",
    "        if r.startswith('<p class=M(0) C($summaryColor) Fz(14px) Lh(1.43em) LineClamp(3,60px)>') :\n",
    "            r = r[69:]\n",
    "        text.append(r)\n",
    "    \n",
    "    if text :\n",
    "        articles.append(''.join(text))\n",
    "        dates.append(date)"
   ]
  },
  {
   "cell_type": "code",
   "execution_count": 13,
   "metadata": {},
   "outputs": [
    {
     "data": {
      "text/plain": [
       "['2021-06-22T14:06:07.000Z']"
      ]
     },
     "execution_count": 13,
     "metadata": {},
     "output_type": "execute_result"
    }
   ],
   "source": [
    "dates"
   ]
  },
  {
   "cell_type": "code",
   "execution_count": 12,
   "metadata": {},
   "outputs": [
    {
     "name": "stdout",
     "output_type": "stream",
     "text": [
      "* Graphic: World FX rates https://tmsnrt.rs/2RBWI5E (Adds quotes, updates prices; changes dateline, previous LONDON) By Karen Brettell NEW YORK, June 22 (Reuters) - The dollar edged higher on Tuesday before Federal Reserve Chair Jerome Powell will testify before Congress, with investors anxious to see whether Powell pushes back against the view that the Fed is likely to raise rates sooner than previously expected as inflation rises. The dollar has surged since the U.S. central bank on Wednesday said that policymakers are forecasting two rate hikes in 2023. That led investors to re-evaluate bets that the U.S. central bank will let inflation run at higher levels for a longer time before hiking rates. “I think today Powell is going to be able to reset his message,” said Edward Moya, senior market analyst at OANDA in New York. “Investors want to get a better view to see whether or not Powell does pull back a little bit of that extra hawkishness that we got last week.” The dollar index gained 0.11% to 91.998, but is holding below a two-month high of 92.408 reached on Friday. The euro fell 0.09% to $1.1906 and the dollar gained 0.30% to 110.69 Japanese yen. Powell has said that he wants to see further progress in employment before tightening policy. He said in prepared remarks released on Monday that the economy continues to show sustained improvement from the coronavirus pandemic and ongoing job market gains, but inflation has increased notably in recent months. Powell did not go into detail on the possibility the U.S. central bank may have to speed up its plans to pull back on some support for the economy because of the faster rise in prices. Some analysts have also speculated that the rate hike forecasts may reflect the views of more hawkish non-voting Fed members and not the core group of dovish Fed policymakers that dominate policy. The debate over when and how the Federal Reserve could begin to reduce some of its massive stimulus for the economy was on full display on Monday, as two U.S. central bank officials explained their support for an earlier withdrawal and a third said any change was still quite a ways away. Bitcoin dropped to its lowest level since January on Tuesday, adding to losses sparked a day earlier when China's central bank deepened a crackdown on cryptocurrencies. It was last at $29,497, down 6.76% on the day. ======================================================== Currency bid prices at 9:32AM (1332 GMT) Description RIC Last U.S. Close Pct Change YTD Pct High Bid Low Bid Previous Change Session Dollar index 91.9980 91.9110 +0.11% 2.242% +92.1390 +91.8900 Euro/Dollar $1.1906 $1.1918 -0.09% -2.55% +$1.1920 +$1.1881 Dollar/Yen 110.6850 110.3500 +0.30% +7.16% +110.7150 +110.3600 Euro/Yen 131.78 131.46 +0.24% +3.83% +131.8100 +131.2300 Dollar/Swiss 0.9197 0.9178 +0.19% +3.94% +0.9212 +0.9178 Sterling/Dollar $1.3892 $1.3934 -0.29% +1.69% +$1.3937 +$1.3861 Dollar/Canadian 1.2386 1.2362 +0.19% -2.73% +1.2403 +1.2360 Aussie/Dollar $0.7514 $0.7542 -0.37% -2.32% +$0.7545 +$0.7495 Euro/Swiss 1.0949 1.0939 +0.09% +1.31% +1.0952 +1.0938 Euro/Sterling 0.8568 0.8551 +0.20% -4.13% +0.8582 +0.8552 NZ $0.6986 $0.6992 -0.04% -2.67% +$0.6994 +$0.6964 Dollar/Dollar Dollar/Norway 8.5965 8.5800 +0.24% +0.16% +8.6125 +8.5725 Euro/Norway 10.2340 10.2112 +0.22% -2.23% +10.2487 +10.2091 Dollar/Sweden 8.5393 8.5287 +0.10% +4.18% +8.5662 +8.5268 Euro/Sweden 10.1679 10.1575 +0.10% +0.91% +10.1863 +10.1538 (Additional reporting by Ritvik Carvalho in London, Editing by Nick Zieminski)The semiconductor growth stock fell hard along with the sector amid heightened Russia-Ukraine tensions.Markets were weaker during the regular trading session, but investors got more optimistic about these two companies.Have you considered how you'll withdraw your retirement income? These simple mistakes could cost you thousands of dollars.The dollar-denominated secondary listings of Russian companies continued to plunge on the London Stock Exchange on Wednesday, as the local Russian stock market remained shut for a third day. Lukoil shares dropped 93%, Novatek dropped 77% and Rosneft Oil collapsed by 58%. X5 Retail , however, surged 58%. Sberbank , Russia's number-one lender, traded as low as a penny.Which stocks are either a fan favorite or a must-avoid? Penny stocks. These tickers going for less than $5 apiece are particularly divisive on Wall Street, with those in favor as well as the naysayers laying out strong arguments. These names are too appealing for the risk-tolerant investor to ignore. Given the low prices, you get more for your money. On top of this, even minor share price appreciation can translate to massive percentage gains, and thus, major returns for investors. However, therMaersk joins global shipping boycott cutting off Russia Explainer: How the West's sanctions are hurting Russia FTSE 100 slides 1.7pc as Ukraine jitters linger Ambrose Evans-Pritchard: It is time to drop an energy cluster bomb on the Kremlin Sign up here for our daily business briefing newsletterIf you've got more than $1,000 in your checking account, you need to make these moves as fast as possible.McDonald's  franchisees, for example, pushed back against the chain's legendary dollar menu to the point that corporate had to revamp it into the current $1, $2, $3 menu.  If a restaurant owner was already upset at the price being charged for low-end hamburgers and chicken nuggets or various other value offerings, they're likely to be very angry as those items cost them more in the first place.  Now, Restaurant Brands International's  Burger King's largest franchise owner has decided to do something about its rising costs and customers are not going to like it.(Bloomberg) -- Europe is carving up Sberbank of Russia PJSC’s business in the region after sanctions sparked by President Vladimir Putin’s invasion of Ukraine prompted a run on its local deposits.Most Read from BloombergChina Spy Think Tank Advising Xi Predicts Russia Sanctions Will BackfireTeen Who Tracked Elon Musk’s Jet Is Now Chasing Russian TycoonsMicrosoft Says Son of CEO Satya Nadella Has Died at 26Biden Assails Putin, Pledges Inflation Fight in State of UnionRussia Steps Up Aerial CampaiShares of iQiyi (NASDAQ: IQ) charged sharply higher on Tuesday, surging as much as 39.4%.  For the fourth quarter, iQiyi generated revenue of 7.39 billion yuan (roughly $1.2 billion), which was essentially flat year over year.  The company reported an operating loss of 975.2 million yuan ($153 million), much improved from its loss of 1.3 billion yuan in the prior-year period.Put your ideas into action with Azure cloud products and services.Shellye Archambeau, Former CEO of MetricStream and Board Member for Verizon, Nordstrom, Roper Technologies and Okta Inc, joins Yahoo Finance Live to discuss how corporate leaders are dealing with impacts from rising Russia-Ukraine tensions and how diversity in boardrooms can help companies assess risks during uncertain times.As of 10 a.m. ET, Nio stock is down 3.4%.  Nio reported a 10% increase in the number of cars delivered in comparison to February 2021 -- which sounds like good news.  Problem is, in January Nio reported a 34% increase in deliveries year over year.Yahoo Finance's Jared Blikre reports on Salesforce earnings and how the stock is popping after the market close.Amazon Has Millions of Prime Subscribers — But Few Know About This Savings TrickAs commodity prices surge amid Putin's Ukraine invasion, Fed chief Jerome Powell will tell Congress what means for rate hikes.Oil is up, the Russian ruble is down, and financial markets are showing increased levels of volatility. The rolling boil in the markets comes as Russia’s Vladimir Putin has launched the largest ground war in Europe since the Second World War. It’s no wonder that investors are starting to seek out defensive positions. The classic defensive position, of course, is the dividend stock. Plenty of companies send out a dividend but only a select group attract the attention of serious dividend investorsCassava Sciences (SAVA) hogged the headlines last year both for good and bad reasons. The company’s Alzheimer’s disease (AD) candidate simufilam showed exceptional results in clinical trials - after 6 months, 9 months, and a 12-month analysis following treatment, patients’ cognitive behavior improved - impressing in what has always been a notoriously difficult to treat condition. But then the tables turned on the company, as accusations of data manipulation and unsound practices were made. So, wAccording to the man who called the dot-com crash in 2000 and the bottom of the stock market in 2008, a new tech could spell doom for real estate.Shares of SoFi Technologies Inc. were soaring 14% in after-hours trading Tuesday after the financial-technology company exceeded expectations with its earnings outlook.Find out which countries have the most restrictive import tariffs on international products, based on data collected by the World Bank and WTO.Russian president Vladimir Putin's push to sanction-proof Russia has backfired, said Adam Posen, president of the Peterson Institute on Tuesday.You may be able to snag offers on new 2021 crossovers and have a new car on your driveway. Look for crossover 2021 pricing.Investors were cautiously optimistic after the company posted earnings after the markets closed on Tuesday.Jefferies reveals five winners from a budding race to increase spending on the military in the wake of Russia's invasion of Ukraine.(Bloomberg) -- Chinese power plants and steelmakers are looking for alternatives to Russian coal after some domestic banks suggested they avoid purchases due to the mounting sanctions being imposed on Moscow. Most Read from BloombergRussia Steps Up Aerial Campaign Against Cities: Ukraine UpdateBelarus Preparing to Send Soldiers, Report Says: Ukraine UpdateTeen Who Tracked Elon Musk’s Jet Is Now Chasing Russian TycoonsWorld’s Biggest Plane Destroyed in Russian Attack on AirfieldMicrosoft Says Son\n",
      "\n"
     ]
    }
   ],
   "source": [
    "for a in articles :\n",
    "    print(a, end='\\n\\n')"
   ]
  },
  {
   "cell_type": "markdown",
   "metadata": {},
   "source": [
    "##### FORBES"
   ]
  },
  {
   "cell_type": "code",
   "execution_count": 23,
   "metadata": {},
   "outputs": [],
   "source": [
    "# Create lists that contains article and date scrapped from each link\n",
    "articles = []\n",
    "dates = []\n",
    "scrapped_links = []\n",
    "\n",
    "# Initialize a count variable to keep track of how many news articles have been scrapped so far\n",
    "count = 0\n",
    "\n",
    "for link in links[0] :\n",
    "    URL = link\n",
    "    # Request access to the URL\n",
    "    page = requests.get(URL, headers=headers)\n",
    "\n",
    "    # Parse the html using BeautifulSoup for scrapping\n",
    "    soup = BeautifulSoup(page.content, \"html.parser\")\n",
    "    date = soup.find_all('time')\n",
    "    date = str(date[18]) + str(date[19])\n",
    "    date = re.sub('<time>|</time>','', date)\n",
    "    date = re.sub(',',' ', date)\n",
    "    date = re.sub('  ',' ',date)[:-3]\n",
    "    # print(date)\n",
    "    \n",
    "    text = []\n",
    "    result = soup.find_all('p')\n",
    "    for r in result :\n",
    "        r = str(r)\n",
    "        r = re.sub('\"|</p>|<p>','', r)\n",
    "        r = re.sub('<p class=color-body light-text>', '',r)\n",
    "        text.append(r)\n",
    "    \n",
    "    if text :\n",
    "        articles.append(''.join(text))\n",
    "        dates.append(date)"
   ]
  },
  {
   "cell_type": "code",
   "execution_count": 24,
   "metadata": {},
   "outputs": [
    {
     "data": {
      "text/plain": [
       "[\"Prices of major cryptocurrencies according to data aggregator COIN360Led by bitcoin, most major cryptocurrencies have spent the past seven days in relative tranquility. Bitcoin and ether have been trading -0.69% and -4.46% on the week respectively, according to crypto data aggregator <a aria-label=COIN360 class=color-link data-ga-track=ExternalLink:https://coin360.com/ href=https://coin360.com/ rel=nofollow noopener noreferrer target=_blank title=https://coin360.com/>COIN360</a>. The biggest movers are Binance’s BNB, which has added 6.95% over the same period, and Dogecoin, which is down by 8.28%.\\xa0As of 8.06 a.m. ET, bitcoin is still facing resistance at $33,576 though on-chain metrics are becoming more bullish. For instance, “bitcoin exchange balances have started to show signs of sustained outflows,” <a aria-label=tweeted class=color-link data-ga-track=ExternalLink:https://twitter.com/glassnode/status/1413528379370967041 href=https://twitter.com/glassnode/status/1413528379370967041 rel=nofollow noopener noreferrer target=_blank title=https://twitter.com/glassnode/status/1413528379370967041>tweeted</a> blockchain data and intelligence provider Glassnode. Approximately 40,000 BTC, or $1.37 billion, have been withdrawn over the last three weeks, reversing weeks of inflows that coincided with the 50% market crash. The withdrawals suggest that traders are moving their funds to outside wallets and aren’t looking to sell in the near term.\\xa0That said, there have been some standouts among altcoins. EOS, the native cryptocurrency of the EOS.IO blockchain platform, rallied nearly 11% in the last few days following the announcement that crypto startup <a aria-label=Bullish is preparing for a public listing via a $9 billion SPAC deal class=color-link data-ga-track=InternalLink:https://www.forbes.com/sites/emilymason/2021/07/09/billionaires-peter-thiel-and-mike-novogratz-will-take-their-crypto-exchange-idea-public-via-9-billion-thomas-farley-spac/?sh=3e6a83072cbc href=https://www.forbes.com/sites/emilymason/2021/07/09/billionaires-peter-thiel-and-mike-novogratz-will-take-their-crypto-exchange-idea-public-via-9-billion-thomas-farley-spac/?sh=3e6a83072cbc target=_self title=https://www.forbes.com/sites/emilymason/2021/07/09/billionaires-peter-thiel-and-mike-novogratz-will-take-their-crypto-exchange-idea-public-via-9-billion-thomas-farley-spac/?sh=3e6a83072cbc>Bullish is preparing for a public listing via a $9 billion SPAC deal</a>. During the past year, Bullish received an initial capital injection of $100 million and digital assets, including 20 million EOS, from Block.one, the company behind EOS. Additionally, Block.one’s CEO Brendan Blumer will become the chairman of Bullish upon the transaction’s close.\\xa0Another big altcoin winner of the week is Terra (LUNA), a native token of the namesake protocol for issuing fiat-pegged stablecoins,\\xa0 – up by 30.86%. The token seems to have found its footing after the volatility it saw in May subsided. On July 7, Terraform Labs, the project’s creator, <a aria-label=committed approximately $70 million class=color-link data-ga-track=ExternalLink:https://agora.terra.money/t/bolstering-anchors-sustainability/1516 href=https://agora.terra.money/t/bolstering-anchors-sustainability/1516 rel=nofollow noopener noreferrer target=_blank title=https://agora.terra.money/t/bolstering-anchors-sustainability/1516>committed approximately $70 million</a> to boost the reserves of its savings protocol Anchor. LUNA’s market capitalization has <a aria-label=leaped class=color-link data-ga-track=ExternalLink:https://coinmarketcap.com/currencies/terra-luna/ href=https://coinmarketcap.com/currencies/terra-luna/ rel=nofollow noopener noreferrer target=_blank title=https://coinmarketcap.com/currencies/terra-luna/>leaped</a> from $300 million to $3.4 billion since January. Price of LUNA according to Binance (calculated by TradingView)But all eyes will be on one of the largest releases of locked shares (16,240) in the Grayscale Bitcoin Trust (GBTC), bound to take place on July 17. In total, 40,000 shares will become unlocked in the coming weeks.\\xa0The trust, set up as a private placement where qualified investors can buy shares directly from Grayscale, requires investors to hold their shares for six months before selling them on the secondary market. GBTC saw massive interest in late 2020 and early 2021 among institutions looking for a simple way to get exposure to bitcoin.\\xa0Opinions on the impact of the event on the market differ. JPMorgan strategists think the selling will add pressure on the cryptocurrency. “Selling of GBTC shares exiting the six-month lockup period during June and July has emerged as an additional headwind for bitcoin,” <a aria-label=wrote class=color-link data-ga-track=ExternalLink:https://www.bloomberg.com/news/articles/2021-06-24/jpmorgan-says-grayscale-share-sales-extra-headwind-for-bitcoin href=https://www.bloomberg.com/news/articles/2021-06-24/jpmorgan-says-grayscale-share-sales-extra-headwind-for-bitcoin rel=nofollow noopener noreferrer target=_blank title=https://www.bloomberg.com/news/articles/2021-06-24/jpmorgan-says-grayscale-share-sales-extra-headwind-for-bitcoin>wrote</a> the bank’s analysts in a note issued earlier in June. “Despite some improvement, our signals remain overall bearish.”Analysts at cryptocurrency exchange Kraken, however, <a aria-label=seem to disagree class=color-link data-ga-track=ExternalLink:https://kraken.docsend.com/view/9cc9sb3wskj9jiht href=https://kraken.docsend.com/view/9cc9sb3wskj9jiht rel=nofollow noopener noreferrer target=_blank title=https://kraken.docsend.com/view/9cc9sb3wskj9jiht>seem to disagree</a>: “market structure suggests that the unlock will not weigh materially on BTC spot markets anytime soon, if at all, like some have claimed.” Whether or not the unlock creates a catalyst for price action, it remains one of the most anticipated events of the week.<p class=contrib-bio data-author-html-description=&lt;p&gt;I report on cryptocurrencies and other applications of blockchain technology. I also write the weekly Forbes Crypto Confidential newsletter and contribute to our premium research service Forbes CryptoAsset &amp;amp; Blockchain Advisor. A Russia native, I am a graduate of NYU Abu Dhabi and Columbia University's Graduate School of Journalism.&lt;/p&gt;>\"]"
      ]
     },
     "execution_count": 24,
     "metadata": {},
     "output_type": "execute_result"
    }
   ],
   "source": [
    "articles"
   ]
  },
  {
   "cell_type": "code",
   "execution_count": 25,
   "metadata": {},
   "outputs": [
    {
     "data": {
      "text/plain": [
       "['Jul 12 2021 08:14am ']"
      ]
     },
     "execution_count": 25,
     "metadata": {},
     "output_type": "execute_result"
    }
   ],
   "source": [
    "dates"
   ]
  }
 ],
 "metadata": {
  "kernelspec": {
   "display_name": "Python 3",
   "language": "python",
   "name": "python3"
  },
  "language_info": {
   "codemirror_mode": {
    "name": "ipython",
    "version": 3
   },
   "file_extension": ".py",
   "mimetype": "text/x-python",
   "name": "python",
   "nbconvert_exporter": "python",
   "pygments_lexer": "ipython3",
   "version": "3.6.5"
  }
 },
 "nbformat": 4,
 "nbformat_minor": 2
}
