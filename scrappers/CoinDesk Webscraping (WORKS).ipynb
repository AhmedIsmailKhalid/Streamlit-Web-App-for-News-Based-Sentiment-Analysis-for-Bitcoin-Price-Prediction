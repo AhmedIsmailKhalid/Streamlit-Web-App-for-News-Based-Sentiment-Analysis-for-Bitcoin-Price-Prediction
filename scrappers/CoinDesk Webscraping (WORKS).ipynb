{
 "cells": [
  {
   "cell_type": "code",
   "execution_count": 1,
   "metadata": {},
   "outputs": [],
   "source": [
    "import pandas as pd\n",
    "import numpy as np\n",
    "import requests\n",
    "import regex as re\n",
    "from bs4 import BeautifulSoup"
   ]
  },
  {
   "cell_type": "code",
   "execution_count": 2,
   "metadata": {},
   "outputs": [
    {
     "data": {
      "text/html": [
       "<div>\n",
       "<style scoped>\n",
       "    .dataframe tbody tr th:only-of-type {\n",
       "        vertical-align: middle;\n",
       "    }\n",
       "\n",
       "    .dataframe tbody tr th {\n",
       "        vertical-align: top;\n",
       "    }\n",
       "\n",
       "    .dataframe thead th {\n",
       "        text-align: right;\n",
       "    }\n",
       "</style>\n",
       "<table border=\"1\" class=\"dataframe\">\n",
       "  <thead>\n",
       "    <tr style=\"text-align: right;\">\n",
       "      <th></th>\n",
       "      <th>0</th>\n",
       "    </tr>\n",
       "  </thead>\n",
       "  <tbody>\n",
       "    <tr>\n",
       "      <th>0</th>\n",
       "      <td>https://www.coindesk.com/markets/2021/08/04/bi...</td>\n",
       "    </tr>\n",
       "    <tr>\n",
       "      <th>1</th>\n",
       "      <td>https://www.coindesk.com/markets/2022/01/31/fi...</td>\n",
       "    </tr>\n",
       "    <tr>\n",
       "      <th>2</th>\n",
       "      <td>https://www.coindesk.com/markets/2022/02/01/ha...</td>\n",
       "    </tr>\n",
       "    <tr>\n",
       "      <th>3</th>\n",
       "      <td>https://www.newsbtc.com/news/bitcoin/market-se...</td>\n",
       "    </tr>\n",
       "    <tr>\n",
       "      <th>4</th>\n",
       "      <td>https://www.newsbtc.com/analysis/btc/ta-bitcoi...</td>\n",
       "    </tr>\n",
       "    <tr>\n",
       "      <th>5</th>\n",
       "      <td>https://bitcoinmagazine.com/business/at-home-b...</td>\n",
       "    </tr>\n",
       "    <tr>\n",
       "      <th>6</th>\n",
       "      <td>https://bitcoinmagazine.com/culture/why-should...</td>\n",
       "    </tr>\n",
       "    <tr>\n",
       "      <th>7</th>\n",
       "      <td>https://cryptoslate.com/whats-behind-bitcoins-...</td>\n",
       "    </tr>\n",
       "    <tr>\n",
       "      <th>8</th>\n",
       "      <td>https://cryptoslate.com/fans-can-now-use-ether...</td>\n",
       "    </tr>\n",
       "    <tr>\n",
       "      <th>9</th>\n",
       "      <td>https://bitcoinist.com/why-deustche-bank-says-...</td>\n",
       "    </tr>\n",
       "    <tr>\n",
       "      <th>10</th>\n",
       "      <td>https://bitcoinist.com/116-million-in-futures-...</td>\n",
       "    </tr>\n",
       "    <tr>\n",
       "      <th>11</th>\n",
       "      <td>https://finance.yahoo.com/news/forex-dollar-ed...</td>\n",
       "    </tr>\n",
       "    <tr>\n",
       "      <th>12</th>\n",
       "      <td>https://www.forbes.com/sites/ninabambysheva/20...</td>\n",
       "    </tr>\n",
       "  </tbody>\n",
       "</table>\n",
       "</div>"
      ],
      "text/plain": [
       "                                                    0\n",
       "0   https://www.coindesk.com/markets/2021/08/04/bi...\n",
       "1   https://www.coindesk.com/markets/2022/01/31/fi...\n",
       "2   https://www.coindesk.com/markets/2022/02/01/ha...\n",
       "3   https://www.newsbtc.com/news/bitcoin/market-se...\n",
       "4   https://www.newsbtc.com/analysis/btc/ta-bitcoi...\n",
       "5   https://bitcoinmagazine.com/business/at-home-b...\n",
       "6   https://bitcoinmagazine.com/culture/why-should...\n",
       "7   https://cryptoslate.com/whats-behind-bitcoins-...\n",
       "8   https://cryptoslate.com/fans-can-now-use-ether...\n",
       "9   https://bitcoinist.com/why-deustche-bank-says-...\n",
       "10  https://bitcoinist.com/116-million-in-futures-...\n",
       "11  https://finance.yahoo.com/news/forex-dollar-ed...\n",
       "12  https://www.forbes.com/sites/ninabambysheva/20..."
      ]
     },
     "execution_count": 2,
     "metadata": {},
     "output_type": "execute_result"
    }
   ],
   "source": [
    "links = pd.read_csv('link.csv',header=None)\n",
    "links"
   ]
  },
  {
   "cell_type": "code",
   "execution_count": 3,
   "metadata": {},
   "outputs": [
    {
     "data": {
      "text/html": [
       "<div>\n",
       "<style scoped>\n",
       "    .dataframe tbody tr th:only-of-type {\n",
       "        vertical-align: middle;\n",
       "    }\n",
       "\n",
       "    .dataframe tbody tr th {\n",
       "        vertical-align: top;\n",
       "    }\n",
       "\n",
       "    .dataframe thead th {\n",
       "        text-align: right;\n",
       "    }\n",
       "</style>\n",
       "<table border=\"1\" class=\"dataframe\">\n",
       "  <thead>\n",
       "    <tr style=\"text-align: right;\">\n",
       "      <th></th>\n",
       "      <th>0</th>\n",
       "    </tr>\n",
       "  </thead>\n",
       "  <tbody>\n",
       "    <tr>\n",
       "      <th>0</th>\n",
       "      <td>https://www.coindesk.com/markets/2021/08/04/bi...</td>\n",
       "    </tr>\n",
       "    <tr>\n",
       "      <th>1</th>\n",
       "      <td>https://www.coindesk.com/markets/2022/01/31/fi...</td>\n",
       "    </tr>\n",
       "    <tr>\n",
       "      <th>2</th>\n",
       "      <td>https://www.coindesk.com/markets/2022/02/01/ha...</td>\n",
       "    </tr>\n",
       "  </tbody>\n",
       "</table>\n",
       "</div>"
      ],
      "text/plain": [
       "                                                   0\n",
       "0  https://www.coindesk.com/markets/2021/08/04/bi...\n",
       "1  https://www.coindesk.com/markets/2022/01/31/fi...\n",
       "2  https://www.coindesk.com/markets/2022/02/01/ha..."
      ]
     },
     "execution_count": 3,
     "metadata": {},
     "output_type": "execute_result"
    }
   ],
   "source": [
    "links = links.drop_duplicates()\n",
    "links = links[links[0].str.contains('coindesk')]\n",
    "links"
   ]
  },
  {
   "cell_type": "code",
   "execution_count": 4,
   "metadata": {},
   "outputs": [],
   "source": [
    "headers = {\"User-Agent\": \"Mozilla/5.0 (Macintosh; Intel Mac OS X 10.14; rv:66.0) Gecko/20100101 Firefox/66.0\", \"Accept\": \"text/html,application/xhtml+xml,application/xml;q=0.9,*/*;q=0.8\", \"Accept-Language\": \"en-US,en;q=0.5\", \"Accept-Encoding\": \"gzip, deflate\", \"DNT\": \"1\", \"Connection\": \"close\", \"Upgrade-Insecure-Requests\": \"1\"}"
   ]
  },
  {
   "cell_type": "code",
   "execution_count": 5,
   "metadata": {},
   "outputs": [
    {
     "data": {
      "text/plain": [
       "'https://www.coindesk.com/markets/2021/08/04/bitcoin-stuck-below-40k-eyes-short-term-oversold-bounce/'"
      ]
     },
     "execution_count": 5,
     "metadata": {},
     "output_type": "execute_result"
    }
   ],
   "source": [
    "links[0][0]"
   ]
  },
  {
   "cell_type": "code",
   "execution_count": 6,
   "metadata": {},
   "outputs": [],
   "source": [
    "# Create lists that contains article and date scrapped from each link\n",
    "articles = []\n",
    "dates = []\n",
    "scrapped_links = []\n",
    "\n",
    "# Initialize a count variable to keep track of how many news articles have been scrapped so far\n",
    "count = 0\n",
    "\n",
    "# for link in links[0].iloc[2] :\n",
    "for link in links[0] :\n",
    "    URL = link\n",
    "    # Request access to the URL\n",
    "    page = requests.get(URL, headers=headers)\n",
    "\n",
    "    # Parse the html using BeautifulSoup for scrapping\n",
    "    soup = BeautifulSoup(page.content, \"html.parser\")\n",
    "    #     result = soup.find_all('p')\n",
    "\n",
    "    # Find the time in the the `time` class in the html\n",
    "    date = soup.find_all('span', {'class':'typography__StyledTypography-owin6q-0 dHSCiD'})\n",
    "    date = re.sub(',|at|UTC', '', date[279].text)\n",
    "    date = re.sub(' a.m.', ' AM', date)\n",
    "    date = re.sub(' p.m.', ' PM', date)\n",
    "    date = re.sub('  ', ' ', date)\n",
    "\n",
    "    # Request access to the URL\n",
    "    page = requests.get(URL, headers=headers)\n",
    "\n",
    "    # Parse the html using BeautifulSoup for scrapping\n",
    "    soup = BeautifulSoup(page.content, \"html.parser\")\n",
    "    result = soup.find_all('p')\n",
    "\n",
    "    text = []\n",
    "    for r in result :\n",
    "        r = str(r)\n",
    "        if (r.startswith('<p>')) and (r.endswith('</p>')) :\n",
    "            r = re.sub('<p>|</p>|<b>|</b>|<a |</a>|</p>|<i>|</i>|<br>|</br>|<br/>|<|>','',r)\n",
    "            text.append(r)\n",
    "            \n",
    "    if text :\n",
    "        dates.append(date)\n",
    "        articles.append(''.join(text))"
   ]
  },
  {
   "cell_type": "code",
   "execution_count": 9,
   "metadata": {},
   "outputs": [
    {
     "data": {
      "text/plain": [
       "['Aug 4 2021 11:31 AM ', 'Jan 31 2022 11:30 PM ', 'Feb 1 2022 7:55 AM ']"
      ]
     },
     "execution_count": 9,
     "metadata": {},
     "output_type": "execute_result"
    }
   ],
   "source": [
    "dates"
   ]
  },
  {
   "cell_type": "code",
   "execution_count": 10,
   "metadata": {},
   "outputs": [
    {
     "data": {
      "text/plain": [
       "(3, 3)"
      ]
     },
     "execution_count": 10,
     "metadata": {},
     "output_type": "execute_result"
    }
   ],
   "source": [
    "len(dates), len(articles)"
   ]
  },
  {
   "cell_type": "code",
   "execution_count": 11,
   "metadata": {},
   "outputs": [
    {
     "name": "stdout",
     "output_type": "stream",
     "text": [
      "Bitcoin (href=\"https://www.coindesk.com/price/bitcoin\"BTC) buyers continue to struggle below $40,000 resistance as the short-squeeze rally fades. The cryptocurrency was trading at around $38,000 at press time and is down 4% over the past week. Short-term oversold signals suggest the pullback could stabilize above $36,000 support.Bitcoin (href=\"https://www.coindesk.com/price/bitcoin\"BTC) buyers continue to struggle below $40,000 resistance as the short-squeeze rally fades. The cryptocurrency was trading at around $38,000 at press time and is down 4% over the past week. Short-term oversold signals suggest the pullback could stabilize above $36,000 support.\n",
      "\n",
      "Good morning. Here’s what’s happening:Market moves: Bitcoin ended a bad January on a positive note; DeFi trading volume grew steadily.Technician's take: BTC's January sell-off could attract short-term buyers.Catch the latest episodes of href=\"https://www.coindesk.com/tv/\" target=\"_blank\"CoinDesk TV for insightful interviews with crypto industry leaders and analysis.Bitcoin (href=\"https://www.coindesk.com/price/bitcoin/\" target=\"_blank\"BTC): $38.446 +1%Ether (href=\"https://www.coindesk.com/price/ethereum/\" target=\"_blank\"ETH): $2,682 +2.6%Top GainersTop LosersS&amp;P 500: 4,515 +1.8%DJIA: 35,131 +1.1%Nasdaq: 14,239 +3.4%Gold: $1,797 +0.4%Bitcoin ended the last day of a bearish January in the green, while overall trading on decentralized exchanges (DEXs) closed at nearly $100 billion in volume for the month.At the time of publication, the oldest cryptocurrency was changing hands at about $38,500, up slightly over the past 24 hours, according to CoinDesk data. Ether, the second biggest cryptocurrency by market capitalization, was up 2.7% to over $2,600 in the same time period.“Bitcoin is rallying as risky assets finish a very bad January on a positive note,” Edward Moya, senior market analyst at Oanda, the Americas, wrote in his daily market update. “Bitcoin bullish momentum is slowly building up and it could surprise to the upside if the dollar continues to weaken as much of the Fed tightening for the year begins to get priced in.”Data compiled by CoinDesk shows that bitcoin’s trading volume across major crypto exchanges was significantly lower than a week ago. Many stock indexes in Asia were closed amid the weeklong lunar New Year (also known as Chinese New Year) holidays. Many crypto traders in the region may also have taken time off.Meanwhile, decentralized exchanges reported nearly $100 billion in trading volume in January, according to href=\"https://dune.xyz/hagaetc/dex-metrics\"Dune Analytics. The total trading volume in DEXs previously dropped significantly following its peak last May. But the high volume has returned in recent months.Some of January’s volume may be associated with the volatility of the markets and the drama in href=\"https://www.coindesk.com/learn/what-is-defi/\" target=\"_blank\"decentralized finance protocol href=\"https://www.coindesk.com/tech/2022/01/27/how-did-a-former-quadriga-exec-end-up-running-a-defi-protocol-wonderland-founder-explains/\"Wonderland, and yet one analyst said the steadily growing volume shows a “renewed growth” in the DeFi sector.“The flawless execution without downtime, or the amazing ability for these protocols to run uninterrupted even amidst drama from founders/developers and declining asset prices…should be the focus,” Jeff Dorman, chief investment officer at crypto investment managing firm Arca, href=\"https://www.ar.ca/blog/defi-is-beautiful-amidst-carnage-and-chaos\"wrote in his blog dated Monday. “There is a thriving underlying ecosystem despite one-off scams, hacks, and ousted bad actors.”href=\"https://www.coindesk.com/markets/2022/01/31/bitcoin-holding-support-above-37k-resistance-at-40k-45k/\" target=\"_blank\"Bitcoin Holding Support Above $37K; Resistance at $40K-$45KBitcoin was rising toward the top of a weeklong trading range as oversold signals remain intact. Oversold refers to investors believing the asset is trading below its true value. BTC was trading at about $38,500 at press time and is up 4% over the past week.Initial href=\"https://www.investopedia.com/trading/support-and-resistance-basics/\"resistance is seen at $40,000, which is an old support level that was rejected on Jan. 20. Buyers will need to make a decisive move above $40,000-$45,000 in order to reverse the downtrend that has been in place since November.For now, BTC’s 20% price decline in January could attract short-term buyers. Traders could place additional bids heading into the Asia trading day if support at $37,000 holds.Over the long term, upside appears limited given negative momentum signals.8:30 a.m. HKT/SGT (12:30 a.m. UTC): Jibun Bank (Japan) manufacturing PMI (Jan.)8:30 a.m. HKT/SGT (12:30 a.m. UTC): Australia home loans (Dec.)8:30 a.m. HKT/SGT (12:30 a.m. UTC): Australia investment lending for homes (Dec.)3 p.m. HKT/SGT (7 a.m. UTC): Germany retail sales (Dec. MoM/YoY)5:30 p.m. HKT/SGT (9:30 a.m. UTC): U.K. consumer creditIn case you missed it, here is the most recent episode of href=\"https://www.coindesk.com/tv/first-mover/\" target=\"_blank\"\"First Mover\" on href=\"https://www.coindesk.com/tv/\" target=\"_blank\"CoinDesk TV:href=\"https://www.coindesk.com/tv/first-mover/\" target=\"_blank\"Bitcoin’s 15th Bear Market Since Its Creation in 2009, Arca Study Finds Most Investors Believe Traditional Securities Will Be Digitized in 5-10 Years“First Mover\" hosts speak to Arca co-founder and CEO Rayne Steinberg as the firm releases a study revealing the top trends in digital assets. Taiwan-based XREX wants to bridge the world using stablecoins. Co-founder Wayne Huang shares the state of crypto in Taiwan. TR Lab co-founder Xin Li-Cohen shares details for the $4.2 million fundraising round from leading art and tech investors and his views on the NFT (href=\"https://www.coindesk.com/learn/what-are-nfts-and-how-do-they-work/\" target=\"_blank\"non-fungible token) market.href=\"https://www.coindesk.com/business/2022/01/31/ftx-reaches-32b-valuation-with-400m-fundraise/\" target=\"_blank\"FTX Reaches $32B Valuation With $400M Fundraise: The investment values the crypto exchange at the same level as Deutsche Boerse and more than Nasdaq or Twitter.href=\"https://www.coindesk.com/tech/2022/01/31/this-marathon-is-among-the-first-irl-metaverse-mashups/\" target=\"_blank\"This Marathon Is Among the First IRL-Metaverse Mashups: Raramuri’s June 2 event gives you plenty of time to train for the metaverse’s first marathon.href=\"https://www.coindesk.com/business/2022/01/31/turkish-crypto-firm-bitci-eyes-expansion-into-brazil-spain-report/\" target=\"_blank\"Turkish Crypto Firm Bitci Eyes Expansion Into Brazil, Spain: Report: The company aims to open a trading platform in Brazil next month with a Spanish one planned in March.href=\"https://www.coindesk.com/markets/2022/01/31/bitcoins-put-call-ratio-hits-6-month-high-as-negativity-rules/\" target=\"_blank\"Bitcoin's Put-Call Ratio Hits 6-Month High as Negativity Rules: The ratio suggests demand for puts is high, one observer said.href=\"https://www.coindesk.com/layer2/privacyweek/2022/01/28/mastercards-ciphertrace-used-honeypots-to-gather-crypto-wallet-intel/\" target=\"_blank\"Mastercard’s CipherTrace Used ‘Honeypots’ to Gather Crypto Wallet Intel: In cybersecurity, the term “honeypot” refers to a trap for hackers. But what does it mean in the context of on-chain analytics? (CoinDesk Privacy Week series)href=\"https://www.coindesk.com/business/2022/01/12/solana-could-become-the-visa-of-digital-asset-world-bank-of-america/\" target=\"_blank\"Solana Could Become the Visa of Digital-Asset World: Bank of America: Solana and other blockchains may snag market share from Ethereum over time, the bank said in a research note.href=\"https://www.coindesk.com/layer2/privacyweek/2022/01/29/bitcoin-protects-privacy-and-fights-oppression/\" target=\"_blank\"Bitcoin Protects Privacy and Fights Oppression: Central bank digital currencies, on the other hand, are financial surveillance on steroids. (CoinDesk's Privacy Week)Today's crypto explainer: href=\"https://www.coindesk.com/learn/investing-in-meme-coins-3-things-every-crypto-trader-should-know/\" target=\"_blank\"Investing in Meme Coins? 3 Things Every Crypto Trader Should Know: Before you go “aping” into the latest “inu” coin, here are a few tips on how to invest in meme coins safely.Other voices: href=\"https://www.cbsnews.com/video/is-cryptocurrency-the-future-of-money/\" target=\"_blank\"Is cryptocurrency the future of money? (CBS News)\"As someone who was there for Canadian crypto’s early days, I can tell you that we were operating truly in the unknown in those first years. In that environment, actors emerged that today our space wouldn’t tolerate. I won’t speak or reveal more on Michael/Omar for personal security reasons, but the point isn’t about him; it's about the moral compass we must demand and a requirement to fight for the betterment of our ecosystem – and humanity.\" (Joseph Weinberg for CoinDesk.\" (href=\"https://www.coindesk.com/layer2/privacyweek/2022/01/29/wonderlands-and-defis-anonymity-problem/\" target=\"_blank\"Bitcoin investor and Shyft Network co-founder Joseph Weinberg) ... \"Crypto's primary benefits stem from being open, transparent and immutable. Blockchain-based web apps are necessarily different than the multibillion-dollar \"walled gardens\" that dominant the internet today. Privacy laws were written with the old web in mind, the web of Facebook and Google.\" (href=\"https://www.coindesk.com/layer2/privacyweek/2022/01/28/a-look-at-eus-gdpr-and-what-it-means-for-crypto-privacy/\" target=\"_blank\"Antoni Zolciak, co-founder of Aleph Zero, a privacy-enhancing layer 1, for CoinDesk's Privacy Week series) ... \"Retail investors’ top picks now look more like they did in early 2020, when the roster of the most-popular U.S.-listed stocks and exchange-traded funds was made up almost entirely of shares of well-established companies in the benchmark S&amp;P 500 and ETFs representing broad bets on U.S. stocks or bonds, according to data from VandaTrack.\" (href=\"https://www.wsj.com/articles/move-over-meme-stocks-retail-investors-go-back-to-the-blue-chips-11643544003?mod=hp_lead_pos10\" target=\"_blank\"The Wall Street Journal)\n",
      "\n",
      "Editor’s note (Feb. 9, 19:10 UTC): The original version of this article was written under the assumption that hackers were responsible for moving the coins. A week after publication, the U.S. Department of Justice announced it had href=\"https://www.coindesk.com/policy/2022/02/08/us-officials-seize-bitcoin-from-2016-bitfinex-hack/\" target=\"_blank\"seized $3.6 billion worth of bitcoin linked to the 2016 Bitfinex hack, and that law enforcement had gained access to the wallet href=\"https://www.justice.gov/opa/press-release/file/1470186/download\" target=\"_blank\"on Jan. 31, the day before the exact amount of BTC (94,643.29) was observed moving on-chain. The article has been updated throughout to reflect the href=\"https://www.coindesk.com/business/2021/08/21/liquid-exchange-hacker-covers-tracks-by-sending-20m-to-eth-mixer/\" target=\"_blank\"difficulty of href=\"https://www.coindesk.com/layer2/privacyweek/2022/01/28/mastercards-ciphertrace-used-honeypots-to-gather-crypto-wallet-intel/\" target=\"_blank\"attribution when analyzing on-chain activity.Large amounts of bitcoin stolen from the cryptocurrency exchange Bitfinex six years ago were moved by unidentified parties early on Tuesday.Read more: href=\"https://www.coindesk.com/markets/2021/04/14/623m-in-bitcoin-from-2016-bitfinex-hack-moved-under-cover-of-coin-hype/\" target=\"_blank\"$623M in Bitcoin From 2016 Bitfinex Hack Moved Under Cover of COIN HypeUPDATE (Feb. 1, 10:39 UTC): Updates the figure in the headline and the text, adds comment from Elliptic.UPDATE (Feb. 1, 11:17 UTC): Updates fourth bullet to say Whale Alert earlier reported on the transfers.Update (Feb. 1, 11:57 UTC): Adds comments from BLIN Analytics.\n",
      "\n"
     ]
    }
   ],
   "source": [
    "for a in articles :\n",
    "    print(a, end='\\n\\n')"
   ]
  },
  {
   "cell_type": "code",
   "execution_count": 21,
   "metadata": {},
   "outputs": [
    {
     "data": {
      "text/html": [
       "<div>\n",
       "<style scoped>\n",
       "    .dataframe tbody tr th:only-of-type {\n",
       "        vertical-align: middle;\n",
       "    }\n",
       "\n",
       "    .dataframe tbody tr th {\n",
       "        vertical-align: top;\n",
       "    }\n",
       "\n",
       "    .dataframe thead th {\n",
       "        text-align: right;\n",
       "    }\n",
       "</style>\n",
       "<table border=\"1\" class=\"dataframe\">\n",
       "  <thead>\n",
       "    <tr style=\"text-align: right;\">\n",
       "      <th></th>\n",
       "      <th>0</th>\n",
       "      <th>DateTime</th>\n",
       "    </tr>\n",
       "  </thead>\n",
       "  <tbody>\n",
       "    <tr>\n",
       "      <th>0</th>\n",
       "      <td>https://www.coindesk.com/markets/2021/08/04/bi...</td>\n",
       "      <td>Aug 4 2021 11:31 AM</td>\n",
       "    </tr>\n",
       "    <tr>\n",
       "      <th>1</th>\n",
       "      <td>https://www.coindesk.com/markets/2022/01/31/fi...</td>\n",
       "      <td>Jan 31 2022 11:30 PM</td>\n",
       "    </tr>\n",
       "    <tr>\n",
       "      <th>2</th>\n",
       "      <td>https://www.coindesk.com/markets/2022/02/01/ha...</td>\n",
       "      <td>Feb 1 2022 7:55 AM</td>\n",
       "    </tr>\n",
       "  </tbody>\n",
       "</table>\n",
       "</div>"
      ],
      "text/plain": [
       "                                                   0               DateTime\n",
       "0  https://www.coindesk.com/markets/2021/08/04/bi...   Aug 4 2021 11:31 AM \n",
       "1  https://www.coindesk.com/markets/2022/01/31/fi...  Jan 31 2022 11:30 PM \n",
       "2  https://www.coindesk.com/markets/2022/02/01/ha...    Feb 1 2022 7:55 AM "
      ]
     },
     "execution_count": 21,
     "metadata": {},
     "output_type": "execute_result"
    }
   ],
   "source": [
    "links['DateTime'] = dates\n",
    "links"
   ]
  },
  {
   "cell_type": "code",
   "execution_count": 22,
   "metadata": {},
   "outputs": [
    {
     "data": {
      "text/html": [
       "<div>\n",
       "<style scoped>\n",
       "    .dataframe tbody tr th:only-of-type {\n",
       "        vertical-align: middle;\n",
       "    }\n",
       "\n",
       "    .dataframe tbody tr th {\n",
       "        vertical-align: top;\n",
       "    }\n",
       "\n",
       "    .dataframe thead th {\n",
       "        text-align: right;\n",
       "    }\n",
       "</style>\n",
       "<table border=\"1\" class=\"dataframe\">\n",
       "  <thead>\n",
       "    <tr style=\"text-align: right;\">\n",
       "      <th></th>\n",
       "      <th>0</th>\n",
       "      <th>DateTime</th>\n",
       "    </tr>\n",
       "  </thead>\n",
       "  <tbody>\n",
       "    <tr>\n",
       "      <th>0</th>\n",
       "      <td>https://www.coindesk.com/markets/2021/08/04/bi...</td>\n",
       "      <td>2021-08-04 11:31:00</td>\n",
       "    </tr>\n",
       "    <tr>\n",
       "      <th>1</th>\n",
       "      <td>https://www.coindesk.com/markets/2022/01/31/fi...</td>\n",
       "      <td>2022-01-31 23:30:00</td>\n",
       "    </tr>\n",
       "    <tr>\n",
       "      <th>2</th>\n",
       "      <td>https://www.coindesk.com/markets/2022/02/01/ha...</td>\n",
       "      <td>2022-02-01 07:55:00</td>\n",
       "    </tr>\n",
       "  </tbody>\n",
       "</table>\n",
       "</div>"
      ],
      "text/plain": [
       "                                                   0            DateTime\n",
       "0  https://www.coindesk.com/markets/2021/08/04/bi... 2021-08-04 11:31:00\n",
       "1  https://www.coindesk.com/markets/2022/01/31/fi... 2022-01-31 23:30:00\n",
       "2  https://www.coindesk.com/markets/2022/02/01/ha... 2022-02-01 07:55:00"
      ]
     },
     "execution_count": 22,
     "metadata": {},
     "output_type": "execute_result"
    }
   ],
   "source": [
    "links['DateTime'] = pd.to_datetime(links['DateTime'])\n",
    "links"
   ]
  },
  {
   "cell_type": "code",
   "execution_count": 23,
   "metadata": {},
   "outputs": [
    {
     "data": {
      "text/html": [
       "<div>\n",
       "<style scoped>\n",
       "    .dataframe tbody tr th:only-of-type {\n",
       "        vertical-align: middle;\n",
       "    }\n",
       "\n",
       "    .dataframe tbody tr th {\n",
       "        vertical-align: top;\n",
       "    }\n",
       "\n",
       "    .dataframe thead th {\n",
       "        text-align: right;\n",
       "    }\n",
       "</style>\n",
       "<table border=\"1\" class=\"dataframe\">\n",
       "  <thead>\n",
       "    <tr style=\"text-align: right;\">\n",
       "      <th></th>\n",
       "      <th>0</th>\n",
       "      <th>DateTime</th>\n",
       "      <th>Date</th>\n",
       "      <th>Time</th>\n",
       "    </tr>\n",
       "  </thead>\n",
       "  <tbody>\n",
       "    <tr>\n",
       "      <th>0</th>\n",
       "      <td>https://www.coindesk.com/markets/2021/08/04/bi...</td>\n",
       "      <td>2021-08-04 11:31:00</td>\n",
       "      <td>2021-08-04</td>\n",
       "      <td>12:00:00</td>\n",
       "    </tr>\n",
       "    <tr>\n",
       "      <th>1</th>\n",
       "      <td>https://www.coindesk.com/markets/2022/01/31/fi...</td>\n",
       "      <td>2022-01-31 23:30:00</td>\n",
       "      <td>2022-01-31</td>\n",
       "      <td>00:00:00</td>\n",
       "    </tr>\n",
       "    <tr>\n",
       "      <th>2</th>\n",
       "      <td>https://www.coindesk.com/markets/2022/02/01/ha...</td>\n",
       "      <td>2022-02-01 07:55:00</td>\n",
       "      <td>2022-02-01</td>\n",
       "      <td>08:00:00</td>\n",
       "    </tr>\n",
       "  </tbody>\n",
       "</table>\n",
       "</div>"
      ],
      "text/plain": [
       "                                                   0            DateTime  \\\n",
       "0  https://www.coindesk.com/markets/2021/08/04/bi... 2021-08-04 11:31:00   \n",
       "1  https://www.coindesk.com/markets/2022/01/31/fi... 2022-01-31 23:30:00   \n",
       "2  https://www.coindesk.com/markets/2022/02/01/ha... 2022-02-01 07:55:00   \n",
       "\n",
       "         Date      Time  \n",
       "0  2021-08-04  12:00:00  \n",
       "1  2022-01-31  00:00:00  \n",
       "2  2022-02-01  08:00:00  "
      ]
     },
     "execution_count": 23,
     "metadata": {},
     "output_type": "execute_result"
    }
   ],
   "source": [
    "links['Date'] = links['DateTime'].dt.date\n",
    "links['Time'] = links['DateTime'].dt.round('H').dt.time\n",
    "links"
   ]
  }
 ],
 "metadata": {
  "kernelspec": {
   "display_name": "Python 3",
   "language": "python",
   "name": "python3"
  },
  "language_info": {
   "codemirror_mode": {
    "name": "ipython",
    "version": 3
   },
   "file_extension": ".py",
   "mimetype": "text/x-python",
   "name": "python",
   "nbconvert_exporter": "python",
   "pygments_lexer": "ipython3",
   "version": "3.6.5"
  }
 },
 "nbformat": 4,
 "nbformat_minor": 2
}
