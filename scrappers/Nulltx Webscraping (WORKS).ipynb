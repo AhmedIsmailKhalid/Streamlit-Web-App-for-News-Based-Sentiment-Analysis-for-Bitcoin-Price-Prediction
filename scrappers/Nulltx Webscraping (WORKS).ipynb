{
 "cells": [
  {
   "cell_type": "code",
   "execution_count": 1,
   "metadata": {},
   "outputs": [],
   "source": [
    "import pandas as pd\n",
    "import numpy as np\n",
    "import requests\n",
    "import regex as re\n",
    "from bs4 import BeautifulSoup"
   ]
  },
  {
   "cell_type": "code",
   "execution_count": 2,
   "metadata": {},
   "outputs": [
    {
     "data": {
      "text/html": [
       "<div>\n",
       "<style scoped>\n",
       "    .dataframe tbody tr th:only-of-type {\n",
       "        vertical-align: middle;\n",
       "    }\n",
       "\n",
       "    .dataframe tbody tr th {\n",
       "        vertical-align: top;\n",
       "    }\n",
       "\n",
       "    .dataframe thead th {\n",
       "        text-align: right;\n",
       "    }\n",
       "</style>\n",
       "<table border=\"1\" class=\"dataframe\">\n",
       "  <thead>\n",
       "    <tr style=\"text-align: right;\">\n",
       "      <th></th>\n",
       "      <th>0</th>\n",
       "    </tr>\n",
       "  </thead>\n",
       "  <tbody>\n",
       "    <tr>\n",
       "      <th>0</th>\n",
       "      <td>https://www.coindesk.com/markets/2021/08/04/bi...</td>\n",
       "    </tr>\n",
       "    <tr>\n",
       "      <th>1</th>\n",
       "      <td>https://www.coindesk.com/markets/2022/01/31/fi...</td>\n",
       "    </tr>\n",
       "    <tr>\n",
       "      <th>2</th>\n",
       "      <td>https://www.coindesk.com/markets/2022/02/01/ha...</td>\n",
       "    </tr>\n",
       "    <tr>\n",
       "      <th>3</th>\n",
       "      <td>https://www.newsbtc.com/news/bitcoin/market-se...</td>\n",
       "    </tr>\n",
       "    <tr>\n",
       "      <th>4</th>\n",
       "      <td>https://www.newsbtc.com/analysis/btc/ta-bitcoi...</td>\n",
       "    </tr>\n",
       "    <tr>\n",
       "      <th>5</th>\n",
       "      <td>https://bitcoinmagazine.com/business/at-home-b...</td>\n",
       "    </tr>\n",
       "    <tr>\n",
       "      <th>6</th>\n",
       "      <td>https://bitcoinmagazine.com/culture/why-should...</td>\n",
       "    </tr>\n",
       "    <tr>\n",
       "      <th>7</th>\n",
       "      <td>https://cryptoslate.com/whats-behind-bitcoins-...</td>\n",
       "    </tr>\n",
       "    <tr>\n",
       "      <th>8</th>\n",
       "      <td>https://cryptoslate.com/fans-can-now-use-ether...</td>\n",
       "    </tr>\n",
       "    <tr>\n",
       "      <th>9</th>\n",
       "      <td>https://bitcoinist.com/why-deustche-bank-says-...</td>\n",
       "    </tr>\n",
       "    <tr>\n",
       "      <th>10</th>\n",
       "      <td>https://bitcoinist.com/116-million-in-futures-...</td>\n",
       "    </tr>\n",
       "    <tr>\n",
       "      <th>11</th>\n",
       "      <td>https://finance.yahoo.com/news/forex-dollar-ed...</td>\n",
       "    </tr>\n",
       "    <tr>\n",
       "      <th>12</th>\n",
       "      <td>https://www.forbes.com/sites/ninabambysheva/20...</td>\n",
       "    </tr>\n",
       "    <tr>\n",
       "      <th>13</th>\n",
       "      <td>https://nulltx.com/with-bitcoin-and-ethereum-p...</td>\n",
       "    </tr>\n",
       "    <tr>\n",
       "      <th>14</th>\n",
       "      <td>https://nulltx.com/with-bitcoin-price-crashing...</td>\n",
       "    </tr>\n",
       "  </tbody>\n",
       "</table>\n",
       "</div>"
      ],
      "text/plain": [
       "                                                    0\n",
       "0   https://www.coindesk.com/markets/2021/08/04/bi...\n",
       "1   https://www.coindesk.com/markets/2022/01/31/fi...\n",
       "2   https://www.coindesk.com/markets/2022/02/01/ha...\n",
       "3   https://www.newsbtc.com/news/bitcoin/market-se...\n",
       "4   https://www.newsbtc.com/analysis/btc/ta-bitcoi...\n",
       "5   https://bitcoinmagazine.com/business/at-home-b...\n",
       "6   https://bitcoinmagazine.com/culture/why-should...\n",
       "7   https://cryptoslate.com/whats-behind-bitcoins-...\n",
       "8   https://cryptoslate.com/fans-can-now-use-ether...\n",
       "9   https://bitcoinist.com/why-deustche-bank-says-...\n",
       "10  https://bitcoinist.com/116-million-in-futures-...\n",
       "11  https://finance.yahoo.com/news/forex-dollar-ed...\n",
       "12  https://www.forbes.com/sites/ninabambysheva/20...\n",
       "13  https://nulltx.com/with-bitcoin-and-ethereum-p...\n",
       "14  https://nulltx.com/with-bitcoin-price-crashing..."
      ]
     },
     "execution_count": 2,
     "metadata": {},
     "output_type": "execute_result"
    }
   ],
   "source": [
    "links = pd.read_csv('link.csv',header=None)\n",
    "links"
   ]
  },
  {
   "cell_type": "code",
   "execution_count": 3,
   "metadata": {},
   "outputs": [],
   "source": [
    "headers = {\"User-Agent\": \"Mozilla/5.0 (Macintosh; Intel Mac OS X 10.14; rv:66.0) Gecko/20100101 Firefox/66.0\", \"Accept\": \"text/html,application/xhtml+xml,application/xml;q=0.9,*/*;q=0.8\", \"Accept-Language\": \"en-US,en;q=0.5\", \"Accept-Encoding\": \"gzip, deflate\", \"DNT\": \"1\", \"Connection\": \"close\", \"Upgrade-Insecure-Requests\": \"1\"}"
   ]
  },
  {
   "cell_type": "code",
   "execution_count": 4,
   "metadata": {},
   "outputs": [
    {
     "data": {
      "text/html": [
       "<div>\n",
       "<style scoped>\n",
       "    .dataframe tbody tr th:only-of-type {\n",
       "        vertical-align: middle;\n",
       "    }\n",
       "\n",
       "    .dataframe tbody tr th {\n",
       "        vertical-align: top;\n",
       "    }\n",
       "\n",
       "    .dataframe thead th {\n",
       "        text-align: right;\n",
       "    }\n",
       "</style>\n",
       "<table border=\"1\" class=\"dataframe\">\n",
       "  <thead>\n",
       "    <tr style=\"text-align: right;\">\n",
       "      <th></th>\n",
       "      <th>0</th>\n",
       "    </tr>\n",
       "  </thead>\n",
       "  <tbody>\n",
       "    <tr>\n",
       "      <th>13</th>\n",
       "      <td>https://nulltx.com/with-bitcoin-and-ethereum-p...</td>\n",
       "    </tr>\n",
       "    <tr>\n",
       "      <th>14</th>\n",
       "      <td>https://nulltx.com/with-bitcoin-price-crashing...</td>\n",
       "    </tr>\n",
       "  </tbody>\n",
       "</table>\n",
       "</div>"
      ],
      "text/plain": [
       "                                                    0\n",
       "13  https://nulltx.com/with-bitcoin-and-ethereum-p...\n",
       "14  https://nulltx.com/with-bitcoin-price-crashing..."
      ]
     },
     "execution_count": 4,
     "metadata": {},
     "output_type": "execute_result"
    }
   ],
   "source": [
    "links = links[links[0].str.contains('nulltx.com')]\n",
    "links"
   ]
  },
  {
   "cell_type": "code",
   "execution_count": 5,
   "metadata": {},
   "outputs": [
    {
     "name": "stdout",
     "output_type": "stream",
     "text": [
      "https://nulltx.com/with-bitcoin-and-ethereum-price-crashing-this-web3-coin-gained-over-1800-today/\n",
      "https://nulltx.com/with-bitcoin-price-crashing-these-3-cryptocurrencies-gained-over-200-today/\n"
     ]
    }
   ],
   "source": [
    "for link in links[0] :\n",
    "    print(link)"
   ]
  },
  {
   "cell_type": "code",
   "execution_count": 39,
   "metadata": {},
   "outputs": [],
   "source": [
    "# Create lists that contains article and date scrapped from each link\n",
    "articles = []\n",
    "dates = []\n",
    "scrapped_links = []\n",
    "\n",
    "# Initialize a count variable to keep track of how many news articles have been scrapped so far\n",
    "count = 0\n",
    "\n",
    "for link in links[0] :\n",
    "    URL = link\n",
    "    # Request access to the URL\n",
    "    page = requests.get(URL, headers=headers)\n",
    "\n",
    "    # Parse the html using BeautifulSoup for scrapping\n",
    "    soup = BeautifulSoup(page.content, \"html.parser\")\n",
    "    date = soup.find('time')\n",
    "    date = re.sub('<time class=\"entry-date updated td-module-date\" datetime=\"|</time>','',str(date))\n",
    "    date = date[:25]\n",
    "    \n",
    "    result = soup.find_all('p')\n",
    "    text = []\n",
    "    for r in result :\n",
    "        r = str(r)\n",
    "        r = re.sub('<p>|</p>|<strong>|</strong>', '', r)\n",
    "        r = re.sub('<p class=\"comment-form-cookies-consent\"><input id=\"wp-comment-cookies-consent\" name=\"wp-comment-cookies-consent\" type=\"checkbox\" value=\"yes\"><label for=\"wp-comment-cookies-consent\">Save my name, email, and website in this browser for the next time I comment.</label></input>','',r)\n",
    "        r = re.sub('<p class=\"form-submit\"><input class=\"submit\" id=\"submit\" name=\"submit\" type=\"submit\" value=\"Post Comment\"> <input id=\"comment_post_ID\" name=\"comment_post_ID\" type=\"hidden\" value=\"103352\">','',r)\n",
    "        r = re.sub('<em>Image Source: Vintage Tone/<a href=\"http://shutterstock.com/\" rel=\"noopener nofollow\" target=\"_blank\">Shutterstock.com</a></em>','',r)\n",
    "        r = re.sub('<input id=\"comment_parent\" name=\"comment_parent\" type=\"hidden\" value=\"0\">|</input></input></input>','',r)\n",
    "        r = re.sub('nulltx.com is part of the Null Transaction PR media group.','',r)\n",
    "        r = r.replace('\\n\\n','')\n",
    "        text.append(r)\n",
    "\n",
    "    if text :\n",
    "        articles.append(''.join(text))\n",
    "        dates.append(date)\n",
    "    "
   ]
  },
  {
   "cell_type": "code",
   "execution_count": 40,
   "metadata": {},
   "outputs": [
    {
     "data": {
      "text/plain": [
       "['2022-01-22T18:54:40+00:00', '2022-01-21T22:43:27+00:00']"
      ]
     },
     "execution_count": 40,
     "metadata": {},
     "output_type": "execute_result"
    }
   ],
   "source": [
    "dates"
   ]
  },
  {
   "cell_type": "code",
   "execution_count": 42,
   "metadata": {},
   "outputs": [
    {
     "name": "stdout",
     "output_type": "stream",
     "text": [
      "This weekend, the markets are incredibly depressing, with Bitcoin and Ethereum continuing their sharp decline. On the bright side, a recently released Web3 coin called Pmail gained over 1800% in the past 24-hours. Let’s look at this Web3 coin and see why the price is rising?Launched on January 20th, <a href=\"https://pmail.cash/\">Pmail Network</a> describes itself as the first NFT Mail application based on Web3. Pmail Network utilizes Dfinity’s technology and looks to serve as a primary portal to the blockchain world.Pmail is looking to empower its users by giving them control of their data and private keys. In addition, users can determine the future of Pmail through their community governance system. Pmail is committed to providing users with a permanent mail service without a centralized service while maintaining data integrity and security.Pmail’s mail services use a unique mail address to identify its users, which consists of a long string looking something like this:<a class=\"__cf_email__\" data-cfemail=\"a5d6d1c4c2cdcecdd6cdd6cacaddfdc8c6c293edefd08b8be5e1c3cccbccd1dc8bc1cac8c4cccb8bc6cac8\" href=\"/cdn-cgi/l/email-protection\">[email protected]</a>Representing a user’s unique on-chain address. As it’s not feasible to use long addresses like that, Pmail features an Alias system enabling users to replace their on-chain address and prevent them from exposing it to the public.Unfortunately, we couldn’t create an account on Pmail as the link returned a 404. In addition, the Github link on Pmail’s official website also didn’t work.The good news is, Pmail did have a demo that users could check out and set up a test email account on the platform.Pmail’s Web3 mail service is an incredible idea that has demand. After all, crypto users aren’t big fans of traditional mail services, which undoubtedly collect and store user data.PML’s current valuation is $45 million with a 24-hour trading volume of $621k. Since PML is a BEP-20 token currently only available on PancakeSwap, all the volume is coming from that DEX.The current valuation of $45 million is relatively high but makes sense since the project does have a Minimum Viable Product which significantly increases investors’ confidence. It’s refreshing to see a project with a use case besides Memes or a play-to-earn Metaverse game.At writing, PML is trading at $0.000016, up over 1800% in the past 24 hours! It seems that with the current crypto bear market, traders are flocking to newly-released coins to hedge their currencies, and Pmail seems like the popular choice for today.<em>Disclosure: This is not trading or investment advice. Always do your research before buying any cryptocurrency.</em>Follow us on Twitter <a href=\"https://twitter.com/nulltxnews\" rel=\"nofollow\">@nulltxnews</a> to stay updated with the latest Metaverse news!<em>Image Source: PX Media/<a href=\"http://shutterstock.com/\" rel=\"noopener nofollow\" target=\"_blank\">Shutterstock.com</a></em>\n",
      "\n",
      "Bitcoin and Ethereum continue their downwards trend this Friday, decreasing by over 10% in price over the past 24 hours. Crypto winter is in full effect, and the markets are a bloodbath. However, the good news is there’s never a shortage of unicorn projects that continue to see significant price hikes despite the bearish sentiment.This article looks at the top three cryptocurrencies on CoinMarketCap gaining the most price today, ordered by 24-hour growth, lowest to highest.Launched on January 20th, 2022, <a href=\"https://influencerfinance.io/\">Influencer Finance</a> wants to connect fans with influences on and off the blockchain. Influencer Finance is an all-in-one decentralized social media and creator management platform, including an NFT marketplace.Influencer Finance features are a socialize-to-earn model on their platform, a decentralized exchange, a multi-chain cryptocurrency wallet, and an NFT marketplace.Influencer Finance appeals to YouTubers and Instagram influencers, enabling creators to streamline their social media presence, accept payments, drive revenue, and increase sales.Their iOS and Android apps are currently in development, and unfortunately, Influencer Finance doesn’t have a Minimum Viable Product at this time.INFLUENCE is the native BEP-20 token on the platform, and users can purchase it on PancakeSwap.Launched on January 10th, 2022, <a href=\"https://projectx.financial/\">Project X Nodes</a> is a passive income cryptocurrency built on the Avalance network. It’s a community-driven project, with its community called the “X-Collective.”Unfortunately, the project currently doesn’t have a whitepaper. In addition, the website is currently inaccessible, and according to a recent Tweet from the team, it’s due to an increase in user interest.<p dir=\"ltr\" lang=\"en\">🥳 YOU DID IT AGAIN! THE WEBSITE IS OFFLINE AGAIN! CONGRATS!🥳 The team is working with our hosting provider to up our plan.More details on the resolution to come.X— Project X (@ProjectXNodes) <a href=\"https://twitter.com/ProjectXNodes/status/1484536802165899270?ref_src=twsrc%5Etfw\">January 21, 2022</a><script async=\"\" charset=\"utf-8\" src=\"https://platform.twitter.com/widgets.js\" type=\"8f839ad2de02246d7e9c5a4e-text/javascript\"></script>Project X Nodes enables users to initialize their PXT nodes and earn tokens as a reward. Remember that node creation is currently disabled until the project’s migration is complete.It’s of concern that the project’s website has been down for over seven hours. After all, if a team can’t even maintain a website online, it’s hard to trust the team to create a multi-million dollar project. I would urge investors to proceed with caution when it comes to PXT. Don’t fall into the FOMO trap.You can purchase the PXT token on TraderJoe.Launched in December 2021, today’s top gainer is <a href=\"https://marsflokiinu.finance/\">Mars Floki Inu</a>, up over 500% in the past 24 hours. As you might have guessed, Mars Floki Inu is a Shiba Inu-themed meme coin built on the Binance Smart Chain.Inspired by Elon’s dog, Mars Floki Inu is looking to liberate all humanity from the effects of inflation. The team combined the power of memes with utility and charity.Mars Floki Inu is a reflection token rewarding users with a percent of each transaction proportional to their share of holdings. In addition, every trade contributes to auto-generating liquidity, which keeps the project and the market alive.Mars Floki Inu is a classic BSC meme token, which means traders should approach this as a high-risk, high-reward trade.You can purchase FLOKI on PancakeSwap.<em>Disclosure: This is not trading or investment advice. Always do your research before buying any cryptocurrency.</em>Follow us on Twitter <a href=\"https://twitter.com/nulltxnews\" rel=\"nofollow\">@nulltxnews</a> to stay updated with the latest Metaverse news!\n",
      "\n"
     ]
    }
   ],
   "source": [
    "for a in articles :\n",
    "    print(a, end='\\n\\n')"
   ]
  }
 ],
 "metadata": {
  "kernelspec": {
   "display_name": "Python 3",
   "language": "python",
   "name": "python3"
  },
  "language_info": {
   "codemirror_mode": {
    "name": "ipython",
    "version": 3
   },
   "file_extension": ".py",
   "mimetype": "text/x-python",
   "name": "python",
   "nbconvert_exporter": "python",
   "pygments_lexer": "ipython3",
   "version": "3.6.5"
  }
 },
 "nbformat": 4,
 "nbformat_minor": 2
}
