{
 "cells": [
  {
   "cell_type": "code",
   "execution_count": 1,
   "metadata": {},
   "outputs": [],
   "source": [
    "import pandas as pd\n",
    "import numpy as np\n",
    "import requests\n",
    "import regex as re\n",
    "from bs4 import BeautifulSoup"
   ]
  },
  {
   "cell_type": "code",
   "execution_count": 2,
   "metadata": {},
   "outputs": [
    {
     "data": {
      "text/html": [
       "<div>\n",
       "<style scoped>\n",
       "    .dataframe tbody tr th:only-of-type {\n",
       "        vertical-align: middle;\n",
       "    }\n",
       "\n",
       "    .dataframe tbody tr th {\n",
       "        vertical-align: top;\n",
       "    }\n",
       "\n",
       "    .dataframe thead th {\n",
       "        text-align: right;\n",
       "    }\n",
       "</style>\n",
       "<table border=\"1\" class=\"dataframe\">\n",
       "  <thead>\n",
       "    <tr style=\"text-align: right;\">\n",
       "      <th></th>\n",
       "      <th>0</th>\n",
       "    </tr>\n",
       "  </thead>\n",
       "  <tbody>\n",
       "    <tr>\n",
       "      <th>0</th>\n",
       "      <td>https://www.coindesk.com/markets/2021/08/04/bi...</td>\n",
       "    </tr>\n",
       "    <tr>\n",
       "      <th>1</th>\n",
       "      <td>https://www.coindesk.com/markets/2022/01/31/fi...</td>\n",
       "    </tr>\n",
       "    <tr>\n",
       "      <th>2</th>\n",
       "      <td>https://www.coindesk.com/markets/2022/02/01/ha...</td>\n",
       "    </tr>\n",
       "    <tr>\n",
       "      <th>3</th>\n",
       "      <td>https://www.newsbtc.com/news/bitcoin/market-se...</td>\n",
       "    </tr>\n",
       "    <tr>\n",
       "      <th>4</th>\n",
       "      <td>https://www.newsbtc.com/analysis/btc/ta-bitcoi...</td>\n",
       "    </tr>\n",
       "    <tr>\n",
       "      <th>5</th>\n",
       "      <td>https://bitcoinmagazine.com/business/at-home-b...</td>\n",
       "    </tr>\n",
       "    <tr>\n",
       "      <th>6</th>\n",
       "      <td>https://bitcoinmagazine.com/culture/why-should...</td>\n",
       "    </tr>\n",
       "    <tr>\n",
       "      <th>7</th>\n",
       "      <td>https://cryptoslate.com/whats-behind-bitcoins-...</td>\n",
       "    </tr>\n",
       "    <tr>\n",
       "      <th>8</th>\n",
       "      <td>https://cryptoslate.com/fans-can-now-use-ether...</td>\n",
       "    </tr>\n",
       "    <tr>\n",
       "      <th>9</th>\n",
       "      <td>https://bitcoinist.com/why-deustche-bank-says-...</td>\n",
       "    </tr>\n",
       "    <tr>\n",
       "      <th>10</th>\n",
       "      <td>https://bitcoinist.com/116-million-in-futures-...</td>\n",
       "    </tr>\n",
       "    <tr>\n",
       "      <th>11</th>\n",
       "      <td>https://finance.yahoo.com/news/forex-dollar-ed...</td>\n",
       "    </tr>\n",
       "    <tr>\n",
       "      <th>12</th>\n",
       "      <td>https://www.forbes.com/sites/ninabambysheva/20...</td>\n",
       "    </tr>\n",
       "  </tbody>\n",
       "</table>\n",
       "</div>"
      ],
      "text/plain": [
       "                                                    0\n",
       "0   https://www.coindesk.com/markets/2021/08/04/bi...\n",
       "1   https://www.coindesk.com/markets/2022/01/31/fi...\n",
       "2   https://www.coindesk.com/markets/2022/02/01/ha...\n",
       "3   https://www.newsbtc.com/news/bitcoin/market-se...\n",
       "4   https://www.newsbtc.com/analysis/btc/ta-bitcoi...\n",
       "5   https://bitcoinmagazine.com/business/at-home-b...\n",
       "6   https://bitcoinmagazine.com/culture/why-should...\n",
       "7   https://cryptoslate.com/whats-behind-bitcoins-...\n",
       "8   https://cryptoslate.com/fans-can-now-use-ether...\n",
       "9   https://bitcoinist.com/why-deustche-bank-says-...\n",
       "10  https://bitcoinist.com/116-million-in-futures-...\n",
       "11  https://finance.yahoo.com/news/forex-dollar-ed...\n",
       "12  https://www.forbes.com/sites/ninabambysheva/20..."
      ]
     },
     "execution_count": 2,
     "metadata": {},
     "output_type": "execute_result"
    }
   ],
   "source": [
    "links = pd.read_csv('link.csv',header=None)\n",
    "links"
   ]
  },
  {
   "cell_type": "code",
   "execution_count": 3,
   "metadata": {},
   "outputs": [
    {
     "data": {
      "text/html": [
       "<div>\n",
       "<style scoped>\n",
       "    .dataframe tbody tr th:only-of-type {\n",
       "        vertical-align: middle;\n",
       "    }\n",
       "\n",
       "    .dataframe tbody tr th {\n",
       "        vertical-align: top;\n",
       "    }\n",
       "\n",
       "    .dataframe thead th {\n",
       "        text-align: right;\n",
       "    }\n",
       "</style>\n",
       "<table border=\"1\" class=\"dataframe\">\n",
       "  <thead>\n",
       "    <tr style=\"text-align: right;\">\n",
       "      <th></th>\n",
       "      <th>0</th>\n",
       "    </tr>\n",
       "  </thead>\n",
       "  <tbody>\n",
       "    <tr>\n",
       "      <th>5</th>\n",
       "      <td>https://bitcoinmagazine.com/business/at-home-b...</td>\n",
       "    </tr>\n",
       "    <tr>\n",
       "      <th>6</th>\n",
       "      <td>https://bitcoinmagazine.com/culture/why-should...</td>\n",
       "    </tr>\n",
       "  </tbody>\n",
       "</table>\n",
       "</div>"
      ],
      "text/plain": [
       "                                                   0\n",
       "5  https://bitcoinmagazine.com/business/at-home-b...\n",
       "6  https://bitcoinmagazine.com/culture/why-should..."
      ]
     },
     "execution_count": 3,
     "metadata": {},
     "output_type": "execute_result"
    }
   ],
   "source": [
    "links = links[links[0].str.contains('bitcoinmagazine')]\n",
    "links"
   ]
  },
  {
   "cell_type": "code",
   "execution_count": 4,
   "metadata": {},
   "outputs": [],
   "source": [
    "headers = {\"User-Agent\": \"Mozilla/5.0 (Macintosh; Intel Mac OS X 10.14; rv:66.0) Gecko/20100101 Firefox/66.0\", \"Accept\": \"text/html,application/xhtml+xml,application/xml;q=0.9,*/*;q=0.8\", \"Accept-Language\": \"en-US,en;q=0.5\", \"Accept-Encoding\": \"gzip, deflate\", \"DNT\": \"1\", \"Connection\": \"close\", \"Upgrade-Insecure-Requests\": \"1\"}"
   ]
  },
  {
   "cell_type": "code",
   "execution_count": 5,
   "metadata": {},
   "outputs": [],
   "source": [
    "# Create lists that contains article and date scrapped from each link\n",
    "articles = []\n",
    "dates = []\n",
    "scrapped_links = []\n",
    "\n",
    "# Initialize a count variable to keep track of how many news articles have been scrapped so far\n",
    "count = 0\n",
    "for link in links[0] :\n",
    "    URL = link\n",
    "    # Request access to the URL\n",
    "    page = requests.get(URL, headers=headers)\n",
    "\n",
    "    # Parse the html using BeautifulSoup for scrapping\n",
    "    soup = BeautifulSoup(page.content, \"html.parser\")\n",
    "    date = soup.find('time')\n",
    "    # print(soup)\n",
    "    # result\n",
    "\n",
    "    date = str(date)[:42]\n",
    "    date = re.sub('<time datetime=\"','',date)\n",
    "    date = date[:-1]\n",
    "    # result\n",
    "\n",
    "    text = []\n",
    "    for data in soup.find_all('p') :\n",
    "        text.append(data.get_text())\n",
    "        \n",
    "    if text :\n",
    "        dates.append(date)\n",
    "        articles.append((''.join(text)))"
   ]
  },
  {
   "cell_type": "code",
   "execution_count": 6,
   "metadata": {},
   "outputs": [
    {
     "data": {
      "text/plain": [
       "['2022-02-18T09:10:09-05:00', '2022-02-17T20:00:00-05:00']"
      ]
     },
     "execution_count": 6,
     "metadata": {},
     "output_type": "execute_result"
    }
   ],
   "source": [
    "dates"
   ]
  },
  {
   "cell_type": "code",
   "execution_count": 7,
   "metadata": {},
   "outputs": [
    {
     "name": "stdout",
     "output_type": "stream",
     "text": [
      "Despite the bitcoin price remaining far from its all-time high, social data demonstrates that retail interest in mining bitcoin is surging.Some social data suggests that bitcoin mining is more popular than ever among retail participants as a surge in interest that started early last year continues, despite a market downtrend. Bitcoin is currently trading roughly 50% lower than its latest all-time high of around $69,000, set in early November 2021. But even with bitcoin’s steady price decline over the past few months, certain online communities are buzzing with novice and seasoned miners alike discussing best practices, new products and educational resources for successful mining. Sustained activity and growth in these communities, despite a market downturn, suggests that widespread interest in mining relative to previous years is insulated from the bitcoin market’s characteristic volatility. Before discussing the data though, it’s interesting to note that one of the Bitcoin community’s favorite sentiment datasets doesn’t reflect this trend. Google search interest is a favorite tool for gauging mainstream interest in all sorts of Bitcoin- and cryptocurrency-related activities and investments. The basic reasoning behind inferring general interest from this data holds that when more people are interested in Bitcoin, search levels for certain terms and phrases will increase. And when interest and activity taper off, search rankings will also decline. But search data for several simple and common mining-related terms and phrases show low or declining interest levels. The below charts visualize this data for mining-related searches:Worldwide Google Search data suggests cryptocurrency mining interest is declining.But maybe novice miners aren’t just asking Google to answer their questions. Alternate data suggests, in the case of mining popularity, Google Search rankings are a poor gauge of general interest and industry growth. Twitter is often recognized as the leading social media platform for public cryptocurrency conversations, but for miners — especially novices looking for answers to their questions — Reddit is king. So, forget Google as a measure of mining interest because miners are flocking to Reddit forums to talk with their novice peers or learn from seasoned professionals. Reddit users have created a variety of cryptocurrency mining-focused subreddits. A few of these communities boast tens of thousands of members, and growth across nearly all of them has been parabolic for over a year. Other metrics like the volume of daily posts and comments as well as subscriber activity rankings add to the growth seen in raw subscriber counts and signal healthy community growth, not just swarms of new members boosting the size of these forums. The below charts visualize some of the data showing growth in Reddit mining communities. Bitcoin mining’s subreddit rocketed from 40,000 subscribers to more than 80,000 by the end of 2021 and continues to climb through February. Before January 2021, that same subreddit took more than three years to double its subscriber count.On Reddit, the growth of cryptocurrency mining forums is surging.Other general cryptocurrency subreddits shown above also saw near-vertical growth curves in subscriber counts. The attraction to mining alternate cryptocurrencies, especially for new, small-scale miners, can often be explained by an interest in betting on higher profitability from smaller protocols and lower financial barriers to entry with hardware and other materials. One key characteristic about this data is that the trend doesn’t lag bitcoin’s price — it’s entirely uncorrelated to it. Lots of data sets in mining lag bitcoin’s price, including prices for ASIC mining machines that characteristically climb or fall with bitcoin but with a delay. Instead of dropping with bitcoin’s price, the pace of growth in these Reddit communities has continued to surge. Retail interest in mining is a fixture of the ecosystem that seems to be unaffected by price volatility. What type of mining are these communities interested in? Activity levels are high across Bitcoin mining and alternate cryptocurrency mining forums. But for all types of miners, the desire to self-mine with complete control of the operation is strong. The types of questions being asked in the forums signal this interest: The forums are filled with users discussing basic electrical questions, hardware comparisons and more. New miners are also asking about best practices for ventilation in different climates, noise and heat insulation tricks, revenue calculations and dealing with bricked control boards. Experienced miners, mining companies and other novice miners are all offering advice, educational resources and tips and tricks for successful mining. While some miners prefer to use hands-off hosted services like Wattum Management, Compass Mining, Blockware Solutions and others, the small-scale, self-mining operation is the main attraction for members of these mining communities. All the mining fun isn’t only on Reddit though. Twitter conversations about mining news, products and educational resources have also grown considerably. Quantifying this growth is difficult though, since Twitter conversation and interaction data isn’t available as easily as Reddit data. But the growing crowds of miners on Twitter regularly post photos and videos of their setups, sharing advice on how they optimized their mining operations. A pair of active, pseudonymous Twitter users that use the nyms Diverter and Econoalchemist have also created powerful libraries of educational articles, threads and interviews targeting retail audiences that want to mine their own bitcoin. There is no uniform or comprehensive instruction manual for how to mine at home, but dozens of other miners have followed the lead of these two creators, publishing their own educational content to help other would-be miners. Shared across Reddit, Twitter, YouTube and other platforms, this growing canon of content has played no small part in creating an army of retail miners. What prompted a rush from retail into bitcoin mining is an open question with many possible answers. For one thing, mining profitability soared throughout 2021 as Chinese miners were forced offline, causing a massive shuffle in hash rate between mining pools and leaving money on the table for new miners, both retail and institutional. For another, retail mining’s growth may be a reaction to the ongoing rapid industrialization and institutionalization of mining. In 2021, institutional mining certainly came to the fore of the Bitcoin market with a surge of mining companies going public (e.g., Rhodium, Core Scientific, Greenidge), a bevy of new financial products and services created for large-scale miners from companies like Galaxy Digital and NYDIG, and even a mining council being created to form a unified voice for corporate mining companies that might be targeted by regulators and lawmakers. Possibly out of a refusal to forever accept mining as something for the “suits,” small-scale miners crowded internet forums and fueled a red-hot mining market for themselves. But whatever caused the mining craze, the online communities growing around it aren’t shrinking at all. Just the opposite, even as bitcoin sits well below last year’s all-time high, online mining communities are thriving, with growth and activity as strong as ever.This is a guest post by Zack Voell. Opinions expressed are entirely their own and do not necessarily reflect those of BTC Inc or Bitcoin Magazine.\n",
      "\n",
      "The layman's guide to understanding the cryptographic revolution taking place on the Bitcoin blockchain.The following article will provide a layman’s guide to the key concepts surrounding bitcoin and its essential value proposition. It will endeavor to supply the reader with a concise explanation as to its impact and relevance to their lives, bestowing them with a concrete understanding as to why bitcoin is the best medium for preserving and securing their wealth, value, time and future.So, you’ve heard about bitcoin in the news and the terms “VoLaTiLe,” “ScAm,” “BuBbLe” and “PoNzI ScHeMe” come to mind no doubt. The mainstream media would have you believe that bitcoin is a temporary fad possessing no inherent value. This article will set out propositions that will debunk those claims and explain the importance of sound money and why ignoring bitcoin and the failure to grasp the significance of its impact will be to the individual’s detriment.The very first thing to understand is that it is not your fault that you do not understand bitcoin or the inner workings and complexities of the financial system. We were not taught about this in school and it requires many hours of protracted effort in your spare time in order to begin to understand how markets work and how money works.It is my belief that the milkman, policeman, teacher and doctor along with all of the other essential professions that comprise our society should not need to have a “portfolio.” They should not need to stress and fret about which bonds or stocks to buy.In truth they should be able to place trust in their institutions and have a simple method of saving their money free from risk and theft, free from anxiety about where to keep their money. I have great empathy for people who struggle to understand why they can never seem to get ahead and great respect for those trying to find the answers.The financial industry is mostly smoke and mirrors; it is full of jargon which people use in order to make themselves sound smarter than they actually are and to provide the illusion that only they can do their job.The struggle to keep up with increasing expenses and mounting payments is a recurring theme among many people today. You seem to work harder and longer hours, but your money never seems to go far enough, with many falling into crippling debt just to stay afloat. Sometimes, this can be ascribed to bad money management and that should not be ignored. However there is an element to money which many people do not see and fail to comprehend. This is the phenomenon known as inflation.Inflation, as we experience it, is the increase in the cost of goods and services, i.e., nearly everything becoming more expensive. This increase in cost, as we shall see, is a result of the money you hold decreasing in its purchasing power, which is a consequence of the debasement of the currency (reduction in value). This then naturally begs the question — why does currency get debased?In order to answer this question and understand why inflation exists we must first understand what money actually is.Money has adopted different roles throughout history, primarily being used as a medium of exchange, unit of account and store of value. Money has also taken on various forms, from seashells and glass beads to commodities and precious metals (i.e., gold, silver, etc.) to the paper money we have today.I would direct the reader to watch this excellent series by Robert Breedlove whereby he outlines the core principles of money, providing a primer on the origins of money and its pivotal role and significance in human life.But from a first principles perspective, money fundamentally is a tool for transferring value across space and time. More specifically, it is a technology that stores energy. Let’s break this down. As an individual you go to work and expend energy by building a bridge, or say, teaching a class. You expend that energy in order to provide value to your community and as a result you are compensated with money. Therefore, money is a token that represents your time, energy and value provided to the market and to society as a whole. The more value one provides, the more they are rewarded by the market by satisfying wants and desires. To receive your monetary energy, you need a token, commodity or other note to conserve and protect it — a battery to store your value. Your wealth is a product of the value you have provided, it is therefore your prerogative as an individual to keep your wealth intact and carry that value and wealth into the future without it becoming compromised and losing its worth.We will compare the three most common types of money used today and how they compare as stores of value, or batteries, for your monetary energy, assessing their effectiveness at protecting and conserving your monetary energy across time and space.For centuries human beings used metals as a form of money, particularly silver and gold. Gold ultimately became the more dominant because of the monetary metals it was the most scarce and durable. For centuries gold has been used as a store of value and served the role fairly well. However, gold has inherent weaknesses and is not a perfect money nor an optimum store of value as we shall discover.Although difficult, more gold is and can always be mined, with the process likely to become even easier as technology evolves and improves over time, allowing access to mineral-rich places. Some even speculate that it may be possible one day to mine gold from the ocean floor and even asteroids.Its mining rate then is effectively its inflation rate, because the supply is being increased thus devaluing the existing stockpiles. There is estimated to be 244,000 tons of gold that have been discovered to date with 2,500-3,000 tons mined per year, putting gold’s inflation rate at circa 1.13%.This may not seem like much but assume you have $100,000 worth of gold but each year it is losing its purchasing power by 1.13%, as if that being like the rate of its energy leakage as a battery. This means that 100 years into the future that $100,000 would be worth just $32,000 – meaning you have lost close to two-thirds of your stored value and energy. Gold also lacks portability; it is difficult to transport across distances. It is heavy and cumbersome, and you run the risk of theft if you simply walk through the street with a wheelbarrow full of gold. So that inevitably means you will require an escort of armed guards to protect your gold when transporting it from one place to another, as well as requiring a place to store your gold (such as a bank vault) leading to you having to custody your gold with a centralized institution.You now have counterparty risk because you are relying on that institution to safeguard your assets and trusting that it can remain solvent into the future, which is not always the case. Just try to think of somewhere you could have safely placed your gold anywhere in the 20th century without it being confiscated or stolen.You likely would have only been successful in three countries, namely the U.K., U.S. and Switzerland. Even in these “safe havens,” two of these aforementioned countries actually seized their citizens' gold. In 1933, the then U.S. president Franklin D. Roosevelt confiscated his citizens' gold with Executive Order 6102 “forbidding the hoarding of gold coin, gold bullion, and gold certificates within the continental United States.”Similarly, in 1966 the Exchange and Control Act 1947 was amended, permitting the U.K. government to ban citizens from owning more than four gold or silver coins and blocked the private import of gold. Every other country in the 20th century at one point or another was either mired in war (and lost) or suffered from corrupt, tyrannical governments who would confiscate their citizens' wealth on a whim.The probability of an event like this occurring again is for the reader to assess; what cannot be denied however is that if you choose to place your gold in a bank vault, you assume counterparty risk, and as an individual you no longer have custody of your asset, but are now relying on favorable external conditions to safeguard your life’s work and wealth.This now brings us to the present day. In order to understand why inflation exists and why money is systematically debased we have to also understand what fiat money is. The word fiat means “by decree.” Fiat currency is money that is endorsed by a central authority or government but has no inherent value in and of itself, being just paper rectangles with someone’s face on it.Fiat currency is the most common and ubiquitous type of money used today, examples being dollars, pounds, euros, yen, etc. As mentioned above, fiat money does not have any inherent value. However, this was not always the case. Modern-day fiat currency such as dollars and pounds used to be backed by gold. Prior to 1971, before President Richard M. Nixon terminated the convertibility of U.S. dollars to gold, an individual could enter a bank and redeem their paper notes for its equivalent in gold.The reason for fiat’s initial success and popularity is that it allowed the user a better means for transporting their wealth across distances. It is wildly inefficient to have to carry gold around in order to transact with another party. Paper currency offers liquidity, portability and ease of use. In spite of this however, you still require a place to store your cash with many opting for banks as their favored choice, which again forces you to take on counterparty risk by storing your wealth with a centralized institution.This system would be highly effective but suffers from one major flaw. Its Achilles heel? Human beings.As mentioned above, fiat currency occurs when you can no longer redeem your paper money for gold, and you are left to trade and transact with those paper rectangles. Because of human failings however, this “legal tender” legislation opens the door to mandates which end up manipulating the currency’s value, inflating the supply and as a result debasing the purchasing power of its users’ so-called “money.”We now understand that inflation is a product of fiat currency. A useful metaphor for inflation would be to picture a barrel — you fill this barrel with water every month, storing it as insurance against droughts and future uncertainty.However, unbeknownst to you, I have drilled a small hole in the side of the barrel. At first due to the barrel’s size, you don’t notice the water level having diminished. But if one were to leave the barrel for a few years and make no further contributions, upon your return you would see that the water level had decreased dramatically. Depending on the length of time you left the barrel unattended, you may return to see almost all of the water having leaked from the vessel.Inflation is entirely avoidable, as in … entirely. I believe the reason for inflation existing is due solely to quantitative easing perpetrated by governments and the central banking cartel. This simply means that central banks print more money, which further inflates the total money supply, thus systematically devaluing the currency in order to gain access to capital and appreciate assets (which they hold for the most part) whilst simultaneously stealing from the rest of society. Quite simply it is a wealth transfer from the poor to the rich.Whether central bank and government actions should be considered as malicious or benign is down to the individual to decide; the results however remain the same, no matter the intent. Inflation is larceny, whether it is perpetrated consciously or not, and it carries disastrous consequences.To put this into perspective, 40% of all U.S. dollars in existence were printed in 2020-2021.The act of inflating currencies is not something new nor a modern phenomenon. This systematic devaluation of the currency has occurred multiple times throughout history, the Weimar Republic of Germany and Ancient Rome being two pertinent examples.In 1923, the Weimar Republic suffered from catastrophic hyperinflation, reaching a point where a single loaf of bread cost 4.6 million Deutsche marks. Many would also burn their marks to heat their stoves because it was less expensive than buying firewood.The collapse of the Roman Empire was also aided by the debasement of their currency, whereby the Emperor Nero diluted the denarius into oblivion. The silver coin was initially of high purity containing approximately 4.5 grams of pure silver. However, over time the silver content was diluted from 90% silver in 64-68 AD to only 0.5% silver by 265 AD. Each coin comprised a bronze core with a thin coating of silver, with the shine quickly wearing off to reveal the poor quality underneath. As a result, Roman soldiers would no longer accept being paid in the devalued coins with the empire eventually collapsing as a consequence. To provide an example of how inflation can impact people today, let us assume that you are an astute and accomplished saver. You “save” $10,000 in your bank account (your battery). You have done well you think. However, although you have $10,000 in nominal value, the purchasing power decreases over time, harkening back to the earlier example of the leaking barrel.Now ask yourself what your interest rate is on your “savings” account at your bank and compare that to the reported inflation figures. In all likelihood you are making a net loss — you are losing energy and your battery is being drained at a rapid rate.If we do the same exercise with fiat as we did with gold, starting with $100,000 sitting in your bank account, and your interest rate being effectively zero, in 100 years that $100,000 would be worth just $205 at today’s average interest rate. This equals a total loss of 99.8% of your purchasing power based on an inflation rate of 6%. This therefore highlights the folly of storing your wealth in fiat currencyYou must understand that if you have not allocated your capital adequately and it remains in your bank account, you are mathematically guaranteed to lose money.In order to avert this, one is forced to buy assets in order to “beat” inflation and retain their purchasing power. This compels the market participant to take on the risk of investing into equities, bonds, real estate, precious metals, art and other alternative investments as stores of value. Inflation is measured via the Commercial Price Index (CPI). However, what many economists will fail to reveal is that CPI is chosen to not include specific goods and assets in order to make it seem lower:“Though it does measure the variation in price for retail goods and other items paid by consumers, the Consumer Price Index does not include things like savings and investments and can often exclude spending by foreign visitors.” (Jason Fernando, 2021).“Core inflation is the change in the costs of goods and services but does not include those from the food and energy sectors. This measure of inflation excludes these items because their prices are much more volatile.” (Will Kenton, 2020)This assumes that individuals are not concerned with growing their wealth over time and are disinterested in increasing their prosperity into the future.In order to measure the real rate of inflation, it is actually (rather comically) more reliable to measure the increase in cost of a Big Mac benchmarked against “official” CPI figures in order to gain a better picture of the situation and the real inflation rate.Inflation has many societal implications and rots a civilization from the inside out. For example, if home ownership becomes unattainable for many, then the prospects of the younger generation are severely handicapped and restricted, resulting in feelings of nihilism, desperation and hopelessness as the gap between the poor and the affluent increases. As well as money being energy, it is also a mechanism for measuring value and worth. If you were asked to measure the width of a door, for example, but the ruler kept changing, you would have no possible way of knowing the door’s true width and measurement. Can you imagine if we had the same issue with ounces, kilos, octaves, seconds, kelvins or amperes? It would be chaos.If you cannot secure your life force and you have no sight of change for the future then you have a higher probability of adopting a higher time preference, meaning you will be more inclined to spend your money in the here and now because the ability to buy a house or achieve financial independence fades by the year.With that realization, many can’t help but feel despondent, derided and resentful towards a system that has been set up to ensure their failure. Therefore, many individuals might choose to numb themselves with distractions, mindless entertainment, hedonistic pursuits and drug abuse accompanied by the general loosening of morals. The manipulation of the money supply affects the quality of our lives to a significant degree.Bitcoin is the antidote to central bank poisoning. Bitcoin rewards savers rather than punishes them. It offers a symbiotic relationship with its user, as opposed to a hostile one with fiat currency, and returns sovereignty and autonomy to the individual.It is a mistake to see bitcoin simply as an investment when it is actually a deflationary savings technology. Bitcoin is the separation of money and state — it keeps your hard-earned time and money out of the hands of perfidious politicians and larcenous central bankers.Many often describe bitcoin as “digital gold,” which while a useful analogy, does not do justice to the magnitude of change and new possibilities which bitcoin offers to the world. Instead, it is best to think of bitcoin more as a new invention, similar to the invention of railroads, the airplane, automobiles or the telephone.All of these inventions and new technologies when first introduced were met with suspicion and oftentimes hostility by the general public. Human beings do not typically like change, but over time when new technologies are adopted by more and more people our barriers are lowered as we come to understand its superior utility and the discovery of a better way of doing things.In fact, it could be argued that bitcoin is both an invention and a discovery, similar to fire. It is a discovery because it is the first time that human beings have uncovered absolute scarcity — we have never had anything which had a perfectly fixed supply.When early man first began playing with fire it might have been met with fear and trepidation by the rest of the group. Some individuals may have been burnt or scalded by the element and written it off as dangerous and a threat.But when channeled correctly, fire can be used for heat and warmth, a method of cooking food, a way to scare off predators, a means of communication, the clearing of debris and forestry and eventually leading to the invention of electricity. It is safe to say then that the discovery of fire was a net positive for humanity and contributed greatly to man getting to where he is today.Bitcoin’s main value proposition is that it is the perfect vessel for securing your wealth across time and space. With zero inflation and zero energy loss, you can retain 100% of your purchasing power 100 years into the future. This cannot be done with any other form of money or asset.Bitcoin satisfies and has perfected the properties of money.This is only possible because bitcoin has a supply cap — there will only ever be 21 million bitcoin in existence, with close to 4 million being already lost forever. To understand this scarcity, there are 56 million millionaires in the world, which means that not every millionaire will be able to acquire a whole bitcoin.This supply cap cannot be altered, changed or increased by any party. It is completely decentralized, no one can ever inflate the supply or change the code.Because of its decentralized nature, bitcoin carries no counterparty risk. One can (and should) take full custody of their bitcoin holdings, meaning there is no need for the use of banks or centralized institutions. You do not have to rely on any third party to transact with bitcoin, as it works via its own peer-to-peer network, similar to conducting in-person cash transactions, yet accomplished over the internet with great distances separating the parties involved.In terms of bitcoin security, it is far superior to any other asset due to its encryption technology and non-reliance on third parties. Because bitcoin is digital and protected behind a wall of cryptography, nobody can access your bitcoin holdings except you because you hold the cryptographic keys.This means that you can take your wealth with you across territories and domains and have it remain 100% intact. If you are a refugee leaving your country of origin in search of a safe harbor, you cannot take your house with you. A house is immovable, and physical objects such as cash, gold or art are susceptible to theft and confiscation. With bitcoin, all of your wealth is effectively stored in your mind.The first thing to note is that you are not “too late” to bitcoin. Bitcoin is still in its monetization phase which means that there is still huge opportunity for growth.This is a common misconception amongst newcomers into the space, believing that the time has elapsed for them to acquire any meaningful position in bitcoin. But this simply isn’t true.I won’t delve too deep into the macroeconomics of bitcoin here, but one should understand that gold has a market capitalization (total value) of over $10 trillion whilst bitcoin is currently only worth less than $1 trillion. If bitcoin is to replace gold as a store of value, then it still has more than $9 trillion left to absorb in monetary energy — and that is almost a 10x from its current position.And this is only assuming that it replaces “only” gold as a store of value — the bond market has an estimated market cap of $119 trillion, which bitcoin is also a possible threat to. Moreover, many of the bonds have negative yields, which simply means that the bondholder receives less money that what they initially purchased it for.Tip! You can buy a fraction of a bitcoin.The wise approach is to focus on accumulating satoshis. Satoshis are the smaller units which comprise an entire bitcoin, similar to how pennies make up a dollar.100,000,000 satoshis equals one whole bitcoin and at the date this article was written you can purchase 1,000,000 satoshis for just $596 or £450. The goal then becomes to acquire as many satoshis as you possibly can while their value is still increasing dramatically over time. Having some level of exposure to the asset by allocating a small portion of your net worth for the asymmetric upside would be a tactically intelligent move to make.This article has aimed to provide the reader with a broad overview of the importance of bitcoin and sound money. I would direct the reader to continue reading and finding resources to find out more about the history of money and its impacts on human civilization.This is a guest post by Beren Sutton. Opinions expressed are entirely their own and do not necessarily reflect those of BTC Inc or Bitcoin Magazine.\n",
      "\n"
     ]
    }
   ],
   "source": [
    "for a in articles :\n",
    "    print(a, end='\\n\\n')"
   ]
  }
 ],
 "metadata": {
  "kernelspec": {
   "display_name": "Python 3",
   "language": "python",
   "name": "python3"
  },
  "language_info": {
   "codemirror_mode": {
    "name": "ipython",
    "version": 3
   },
   "file_extension": ".py",
   "mimetype": "text/x-python",
   "name": "python",
   "nbconvert_exporter": "python",
   "pygments_lexer": "ipython3",
   "version": "3.6.5"
  }
 },
 "nbformat": 4,
 "nbformat_minor": 2
}
